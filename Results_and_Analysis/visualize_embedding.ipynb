{
 "cells": [
  {
   "cell_type": "markdown",
   "id": "8a269a48",
   "metadata": {},
   "source": [
    "# TSNE & visualization workflow\n",
    "This notebook reproduces and extends the visualisations in `visualize.ipynb`.\n",
    "It loads pretrained embeddings (flattened 100x256 -> 25600 dim), loads metadata CSVs, performs PCA preprocessing, runs UMAP with parameter sweeps, creates static matplotlib plots and interactive Plotly visualizations, and saves outputs for downstream analysis."
   ]
  },
  {
   "cell_type": "code",
   "execution_count": 1,
   "id": "4cdf1dfb",
   "metadata": {},
   "outputs": [],
   "source": [
    "# --- Imports and plotting backend ---\n",
    "import time\n",
    "import pickle\n",
    "import numpy as np\n",
    "import pandas as pd\n",
    "import matplotlib.pyplot as plt\n",
    "import plotly.express as px\n",
    "import plotly.io as pio\n",
    "from sklearn.decomposition import PCA, TruncatedSVD\n",
    "from sklearn.manifold import TSNE, MDS\n",
    "from sklearn.manifold import trustworthiness\n",
    "from sklearn.metrics import pairwise_distances\n",
    "import os\n",
    "\n",
    "# plotting defaults\n",
    "%matplotlib inline\n",
    "plt.rcParams['figure.figsize'] = (8, 6)\n",
    "RANDOM_STATE = 42\n",
    "np.random.seed(RANDOM_STATE)"
   ]
  },
  {
   "cell_type": "code",
   "execution_count": 2,
   "id": "ba04edee",
   "metadata": {},
   "outputs": [
    {
     "name": "stdout",
     "output_type": "stream",
     "text": [
      "Loading embeddings...\n",
      "Number of keys in embeddings: 1135\n",
      "Sample key examples: ['88', '108', '139', '159', '265']\n",
      "\n",
      "Loading metadata...\n",
      "data_driven rows: 1135\n",
      "koppen rows: 1135\n",
      "bioclim rows: 1135\n"
     ]
    }
   ],
   "source": [
    "# --- File paths and loading raw data ---\n",
    "# Edit these paths if your files are in other locations\n",
    "# EMBED_PKL = './Embeddings/fixedlen_512/Caduceus_FixedLen_512.pkl'\n",
    "EMBED_PKL = './Embeddings/fixedlen_25000/Caduceus_FixedLen_25000_avg.pkl'\n",
    "DATA_DRIVEN_CSV = './Data/coords_with_data_driven.csv'\n",
    "KOPPEN_CSV = './Data/coords_with_koppen_geiger.csv'\n",
    "BIOCLIM_CSV = './Data/coords_with_bioclim.csv'\n",
    "OUT_DIR = './Results/visualize_tsne'\n",
    "os.makedirs(OUT_DIR, exist_ok=True)\n",
    "\n",
    "print('Loading embeddings...')\n",
    "with open(EMBED_PKL, 'rb') as f:\n",
    "    embeddings_dict = pickle.load(f)\n",
    "\n",
    "print('Number of keys in embeddings:', len(embeddings_dict))\n",
    "print('Sample key examples:', list(embeddings_dict.keys())[:5])\n",
    "\n",
    "print('\\nLoading metadata...')\n",
    "data_driven = pd.read_csv(DATA_DRIVEN_CSV)\n",
    "koppen = pd.read_csv(KOPPEN_CSV)\n",
    "bioclim = pd.read_csv(BIOCLIM_CSV)\n",
    "\n",
    "print('data_driven rows:', len(data_driven))\n",
    "print('koppen rows:', len(koppen))\n",
    "print('bioclim rows:', len(bioclim))"
   ]
  },
  {
   "cell_type": "code",
   "execution_count": 3,
   "id": "3e9f146d",
   "metadata": {},
   "outputs": [
    {
     "name": "stdout",
     "output_type": "stream",
     "text": [
      "embed_arr.shape = (1135, 25600)\n",
      "embed_keys.shape = (1135,)\n"
     ]
    }
   ],
   "source": [
    "# --- Construct embeddings array from pickle (reshape stacked arrays) ---\n",
    "# Expect each embeddings_dict[k] to be shape (100, 256) or similar; flatten to 25600\n",
    "keys = list(embeddings_dict.keys())\n",
    "embed_list = []\n",
    "for k in keys:\n",
    "    arr = np.array(embeddings_dict[k])\n",
    "    embed_list.append(arr.reshape(-1))\n",
    "\n",
    "embed_arr = np.vstack(embed_list)\n",
    "embed_keys = np.array(keys)\n",
    "print('embed_arr.shape =', embed_arr.shape)\n",
    "print('embed_keys.shape =', embed_keys.shape)"
   ]
  },
  {
   "cell_type": "code",
   "execution_count": 4,
   "id": "eba7e7fc",
   "metadata": {},
   "outputs": [
    {
     "name": "stdout",
     "output_type": "stream",
     "text": [
      "meta_df.shape = (1135, 8)\n"
     ]
    },
    {
     "data": {
      "application/vnd.microsoft.datawrangler.viewer.v0+json": {
       "columns": [
        {
         "name": "index",
         "rawType": "int64",
         "type": "integer"
        },
        {
         "name": "embed_key",
         "rawType": "object",
         "type": "string"
        },
        {
         "name": "data_driven_index",
         "rawType": "int64",
         "type": "integer"
        },
        {
         "name": "koppen_index",
         "rawType": "int64",
         "type": "integer"
        },
        {
         "name": "KM12_value",
         "rawType": "int64",
         "type": "integer"
        },
        {
         "name": "ISO16_value",
         "rawType": "int64",
         "type": "integer"
        },
        {
         "name": "KM30_value",
         "rawType": "int64",
         "type": "integer"
        },
        {
         "name": "RF30_value",
         "rawType": "int64",
         "type": "integer"
        },
        {
         "name": "Koppen-Geiger-Name",
         "rawType": "object",
         "type": "string"
        }
       ],
       "ref": "ba94c560-1001-4385-b85b-6c67b0b2542e",
       "rows": [
        [
         "0",
         "88",
         "0",
         "0",
         "5",
         "2",
         "17",
         "2",
         "Cfb"
        ],
        [
         "1",
         "108",
         "1",
         "1",
         "10",
         "5",
         "3",
         "2",
         "Cfb"
        ],
        [
         "2",
         "139",
         "2",
         "2",
         "10",
         "5",
         "3",
         "2",
         "Cfb"
        ],
        [
         "3",
         "159",
         "3",
         "3",
         "5",
         "2",
         "17",
         "2",
         "Cfb"
        ],
        [
         "4",
         "265",
         "4",
         "4",
         "5",
         "5",
         "13",
         "2",
         "Cfb"
        ]
       ],
       "shape": {
        "columns": 8,
        "rows": 5
       }
      },
      "text/html": [
       "<div>\n",
       "<style scoped>\n",
       "    .dataframe tbody tr th:only-of-type {\n",
       "        vertical-align: middle;\n",
       "    }\n",
       "\n",
       "    .dataframe tbody tr th {\n",
       "        vertical-align: top;\n",
       "    }\n",
       "\n",
       "    .dataframe thead th {\n",
       "        text-align: right;\n",
       "    }\n",
       "</style>\n",
       "<table border=\"1\" class=\"dataframe\">\n",
       "  <thead>\n",
       "    <tr style=\"text-align: right;\">\n",
       "      <th></th>\n",
       "      <th>embed_key</th>\n",
       "      <th>data_driven_index</th>\n",
       "      <th>koppen_index</th>\n",
       "      <th>KM12_value</th>\n",
       "      <th>ISO16_value</th>\n",
       "      <th>KM30_value</th>\n",
       "      <th>RF30_value</th>\n",
       "      <th>Koppen-Geiger-Name</th>\n",
       "    </tr>\n",
       "  </thead>\n",
       "  <tbody>\n",
       "    <tr>\n",
       "      <th>0</th>\n",
       "      <td>88</td>\n",
       "      <td>0</td>\n",
       "      <td>0</td>\n",
       "      <td>5</td>\n",
       "      <td>2</td>\n",
       "      <td>17</td>\n",
       "      <td>2</td>\n",
       "      <td>Cfb</td>\n",
       "    </tr>\n",
       "    <tr>\n",
       "      <th>1</th>\n",
       "      <td>108</td>\n",
       "      <td>1</td>\n",
       "      <td>1</td>\n",
       "      <td>10</td>\n",
       "      <td>5</td>\n",
       "      <td>3</td>\n",
       "      <td>2</td>\n",
       "      <td>Cfb</td>\n",
       "    </tr>\n",
       "    <tr>\n",
       "      <th>2</th>\n",
       "      <td>139</td>\n",
       "      <td>2</td>\n",
       "      <td>2</td>\n",
       "      <td>10</td>\n",
       "      <td>5</td>\n",
       "      <td>3</td>\n",
       "      <td>2</td>\n",
       "      <td>Cfb</td>\n",
       "    </tr>\n",
       "    <tr>\n",
       "      <th>3</th>\n",
       "      <td>159</td>\n",
       "      <td>3</td>\n",
       "      <td>3</td>\n",
       "      <td>5</td>\n",
       "      <td>2</td>\n",
       "      <td>17</td>\n",
       "      <td>2</td>\n",
       "      <td>Cfb</td>\n",
       "    </tr>\n",
       "    <tr>\n",
       "      <th>4</th>\n",
       "      <td>265</td>\n",
       "      <td>4</td>\n",
       "      <td>4</td>\n",
       "      <td>5</td>\n",
       "      <td>5</td>\n",
       "      <td>13</td>\n",
       "      <td>2</td>\n",
       "      <td>Cfb</td>\n",
       "    </tr>\n",
       "  </tbody>\n",
       "</table>\n",
       "</div>"
      ],
      "text/plain": [
       "  embed_key  data_driven_index  koppen_index  KM12_value  ISO16_value  \\\n",
       "0        88                  0             0           5            2   \n",
       "1       108                  1             1          10            5   \n",
       "2       139                  2             2          10            5   \n",
       "3       159                  3             3           5            2   \n",
       "4       265                  4             4           5            5   \n",
       "\n",
       "   KM30_value  RF30_value Koppen-Geiger-Name  \n",
       "0          17           2                Cfb  \n",
       "1           3           2                Cfb  \n",
       "2           3           2                Cfb  \n",
       "3          17           2                Cfb  \n",
       "4          13           2                Cfb  "
      ]
     },
     "execution_count": 4,
     "metadata": {},
     "output_type": "execute_result"
    }
   ],
   "source": [
    "# --- Build metadata join (map embed_keys to data_driven and koppen_geiger rows) ---\n",
    "# Ensure types match\n",
    "try:\n",
    "    # metadata IID likely numeric strings—coerce to str for matching\n",
    "    data_driven['IID'] = data_driven['IID'].astype(str)\n",
    "    koppen['IID'] = koppen['IID'].astype(str)\n",
    "except Exception:\n",
    "    pass\n",
    "\n",
    "# Build a metadata dataframe aligned with embed_keys\n",
    "meta_rows = []\n",
    "for k in embed_keys:\n",
    "    k_str = str(k)\n",
    "    row_dd = data_driven[data_driven['IID'] == k_str]\n",
    "    row_kp = koppen[koppen['IID'] == k_str]\n",
    "    meta = {\n",
    "        'embed_key': k_str,\n",
    "        'data_driven_index': (row_dd.index[0] if len(row_dd) > 0 else np.nan),\n",
    "        'koppen_index': (row_kp.index[0] if len(row_kp) > 0 else np.nan)\n",
    "    }\n",
    "    # pull a few useful labels if present\n",
    "    if len(row_dd) > 0:\n",
    "        meta.update({\n",
    "            'KM12_value': row_dd.iloc[0].get('KM12_value', None),\n",
    "            'ISO16_value': row_dd.iloc[0].get('ISO16_value', None),\n",
    "            'KM30_value': row_dd.iloc[0].get('KM30_value', None),\n",
    "            'RF30_value': row_dd.iloc[0].get('RF30_value', None)\n",
    "        })\n",
    "    if len(row_kp) > 0:\n",
    "        meta.update({'Koppen-Geiger-Name': row_kp.iloc[0].get('Koppen-Geiger-Name', None)})\n",
    "    meta_rows.append(meta)\n",
    "\n",
    "meta_df = pd.DataFrame(meta_rows)\n",
    "print('meta_df.shape =', meta_df.shape)\n",
    "meta_df.head()"
   ]
  },
  {
   "cell_type": "code",
   "execution_count": 5,
   "id": "ffa309fa",
   "metadata": {},
   "outputs": [
    {
     "name": "stdout",
     "output_type": "stream",
     "text": [
      "Valid KG classes (>=10): ['Cfb', 'Dfb', 'Cs', 'Cfa', 'BSk', 'Dfa']\n",
      "kg_filtered_embed_arr.shape = (1069, 25600)\n"
     ]
    }
   ],
   "source": [
    "# --- Filter classes and indices (count thresholds, Koppen-Geiger modifications) ---\n",
    "# 1. Filter by KM12_value requiring at least 10 samples per class\n",
    "# class_counts = meta_df['KM12_value'].value_counts(dropna=True)\n",
    "# valid_classes = class_counts[class_counts >= 10].index.tolist()\n",
    "# print('Valid KM12 classes (>=10):', valid_classes)\n",
    "\n",
    "# valid_indices = meta_df[meta_df['KM12_value'].isin(valid_classes)].index.to_numpy()\n",
    "# filtered_embed_arr = embed_arr[valid_indices]\n",
    "# filtered_embed_keys = embed_keys[valid_indices]\n",
    "# filtered_meta_df = meta_df.iloc[valid_indices].reset_index(drop=True)\n",
    "\n",
    "# class_counts = meta_df['ISO16_value'].value_counts(dropna=True)\n",
    "# valid_classes = class_counts[class_counts >= 10].index.tolist()\n",
    "# print('Valid KM12 classes (>=10):', valid_classes)\n",
    "\n",
    "# valid_indices = meta_df[meta_df['ISO16_value'].isin(valid_classes)].index.to_numpy()\n",
    "# filtered_embed_arr = embed_arr[valid_indices]\n",
    "# filtered_embed_keys = embed_keys[valid_indices]\n",
    "# filtered_meta_df = meta_df.iloc[valid_indices].reset_index(drop=True)\n",
    "\n",
    "# --- Koppen-Geiger filtering: start from full meta_df, not filtered_meta_df ---\n",
    "# Add Koppen-Geiger-Name-Modified column to meta_df (not filtered_meta_df)\n",
    "kg_names = koppen.set_index('IID')['Koppen-Geiger-Name'].astype(str)\n",
    "kg_mod = kg_names.copy()\n",
    "kg_mod = kg_mod.replace({'Csa': 'Cs', 'Csb': 'Cs'})\n",
    "kg_mod = kg_mod.replace({'Dfc': None, 'Dsb': None, 'ET': None, 'Dsc': None, 'BWh': None, 'Cfc': None, 'BWk': None})\n",
    "meta_df['Koppen-Geiger-Name-Modified'] = meta_df['embed_key'].map(kg_mod)\n",
    "\n",
    "# Filter to only rows with valid KG classes (not null, not 'nan')\n",
    "valid_kg_mask = meta_df['Koppen-Geiger-Name-Modified'].notnull() & (meta_df['Koppen-Geiger-Name-Modified'] != 'nan')\n",
    "kg_filtered_df = meta_df[valid_kg_mask].reset_index(drop=True)\n",
    "kg_filtered_embed_arr = embed_arr[valid_kg_mask.values]\n",
    "kg_filtered_embed_keys = embed_keys[valid_kg_mask.values]\n",
    "\n",
    "# Filter KG classes by count threshold (e.g. >=10)\n",
    "kg_class_counts = kg_filtered_df['Koppen-Geiger-Name-Modified'].value_counts(dropna=True)\n",
    "valid_kg_classes = kg_class_counts[kg_class_counts >= 1].index.tolist()\n",
    "print('Valid KG classes (>=10):', valid_kg_classes)\n",
    "valid_kg_class_mask = kg_filtered_df['Koppen-Geiger-Name-Modified'].isin(valid_kg_classes)\n",
    "filtered_meta_df = kg_filtered_df[valid_kg_class_mask].reset_index(drop=True)\n",
    "filtered_embed_arr = kg_filtered_embed_arr[valid_kg_class_mask.values]\n",
    "filtered_embed_keys = kg_filtered_embed_keys[valid_kg_class_mask.values]\n",
    "\n",
    "print('kg_filtered_embed_arr.shape =', filtered_embed_arr.shape)\n",
    "\n",
    "# filtered_meta_df etc. (KM12) are for KM12-based analysis; kg_filtered_df etc. are for KG-based analysis"
   ]
  },
  {
   "cell_type": "code",
   "execution_count": null,
   "id": "70297bac",
   "metadata": {},
   "outputs": [
    {
     "name": "stdout",
     "output_type": "stream",
     "text": [
      "Estimating number of PCA components to retain 90% variance...\n",
      "Estimated components needed: 35 (from exploratory 200)\n",
      "Fitting final PCA with n_components=35...\n",
      "X_pca.shape = (1069, 35)\n",
      "Explained variance ratio (sum): 0.9023907281788343\n"
     ]
    }
   ],
   "source": [
    "# --- PCA preprocessing (optional, variance-based) ---\n",
    "USE_PCA = True\n",
    "TARGET_VARIANCE = 0.90  # e.g. 0.90 for 90% explained variance\n",
    "MAX_EXPLORATORY_COMPONENTS = min(500, filtered_embed_arr.shape[0]-1, filtered_embed_arr.shape[1])\n",
    "if USE_PCA:\n",
    "    print(f'Estimating number of PCA components to retain {TARGET_VARIANCE*100:.0f}% variance...')\n",
    "    n_samples, n_features = filtered_embed_arr.shape\n",
    "    exploratory_n = max(10, min(MAX_EXPLORATORY_COMPONENTS, 200))\n",
    "    exploratory_n = min(exploratory_n, n_samples - 1)\n",
    "    # run an exploratory PCA to see the explained variance curve\n",
    "    pca_explore = PCA(n_components=exploratory_n, svd_solver='randomized', random_state=RANDOM_STATE)\n",
    "    pca_explore.fit(filtered_embed_arr)\n",
    "    cumvar = np.cumsum(pca_explore.explained_variance_ratio_)\n",
    "    if cumvar[-1] >= TARGET_VARIANCE:\n",
    "        n_needed = int(np.searchsorted(cumvar, TARGET_VARIANCE) + 1)\n",
    "        print(f'Estimated components needed: {n_needed} (from exploratory {exploratory_n})')\n",
    "    else:\n",
    "        # exploratory run didn't reach the target variance; fall back to a larger fit but cap to avoid extreme costs\n",
    "        max_possible = min(n_samples - 1, n_features)\n",
    "        n_needed = min(max_possible,  min(1000, max_possible))\n",
    "        print(f'Exploratory PCA ({exploratory_n}) did not reach target variance; using n_needed={n_needed}')\n",
    "    # enforce sensible bounds\n",
    "    n_needed = max(2, min(n_needed, n_samples - 1))\n",
    "    # fit final PCA with chosen n_components\n",
    "    print(f'Fitting final PCA with n_components={n_needed}...')\n",
    "    pca = PCA(n_components=n_needed, svd_solver='randomized', random_state=RANDOM_STATE)\n",
    "    X_pca = pca.fit_transform(filtered_embed_arr)\n",
    "    print('X_pca.shape =', X_pca.shape)\n",
    "    print('Explained variance ratio (sum):', np.sum(pca.explained_variance_ratio_))\n",
    "    # save PCA info for reproducibility\n",
    "    pca_info = {\n",
    "        'n_components': int(n_needed),\n",
    "        'explained_variance_ratio': pca.explained_variance_ratio_.tolist(),\n",
    "        'cumvar': np.cumsum(pca.explained_variance_ratio_).tolist()\n",
    "    }\n",
    "    import pickle as _pickle\n",
    "    with open(os.path.join(OUT_DIR, 'pca_info.pkl'), 'wb') as _f:\n",
    "        _pickle.dump(pca_info, _f)\n",
    "else:\n",
    "    print('Skipping PCA; using raw embeddings as TSNE input')\n",
    "    X_pca = filtered_embed_arr"
   ]
  },
  {
   "cell_type": "code",
   "execution_count": 13,
   "id": "e58e979b",
   "metadata": {},
   "outputs": [
    {
     "name": "stdout",
     "output_type": "stream",
     "text": [
      "Running t-SNE perp=100 lr=100 seed=42...\n",
      "[t-SNE] Computing pairwise distances...\n",
      "[t-SNE] Computed conditional probabilities for sample 1000 / 1069\n",
      "[t-SNE] Computed conditional probabilities for sample 1069 / 1069\n",
      "[t-SNE] Mean sigma: 0.044247\n",
      "[t-SNE] KL divergence after 250 iterations with early exaggeration: 56.299472\n",
      "[t-SNE] KL divergence after 1150 iterations: 0.838637\n",
      "Done, runtime 21.9s trustworthiness 0.954\n"
     ]
    },
    {
     "data": {
      "application/vnd.microsoft.datawrangler.viewer.v0+json": {
       "columns": [
        {
         "name": "index",
         "rawType": "int64",
         "type": "integer"
        },
        {
         "name": "perplexity",
         "rawType": "int64",
         "type": "integer"
        },
        {
         "name": "learning_rate",
         "rawType": "int64",
         "type": "integer"
        },
        {
         "name": "seed",
         "rawType": "int64",
         "type": "integer"
        },
        {
         "name": "method",
         "rawType": "object",
         "type": "string"
        },
        {
         "name": "runtime_sec",
         "rawType": "float64",
         "type": "float"
        },
        {
         "name": "trustworthiness",
         "rawType": "float64",
         "type": "float"
        }
       ],
       "ref": "d318df77-bd72-4dab-bfac-6ca15bf59f11",
       "rows": [
        [
         "0",
         "100",
         "100",
         "42",
         "exact",
         "21.871848821640015",
         "0.9540672645081032"
        ]
       ],
       "shape": {
        "columns": 6,
        "rows": 1
       }
      },
      "text/html": [
       "<div>\n",
       "<style scoped>\n",
       "    .dataframe tbody tr th:only-of-type {\n",
       "        vertical-align: middle;\n",
       "    }\n",
       "\n",
       "    .dataframe tbody tr th {\n",
       "        vertical-align: top;\n",
       "    }\n",
       "\n",
       "    .dataframe thead th {\n",
       "        text-align: right;\n",
       "    }\n",
       "</style>\n",
       "<table border=\"1\" class=\"dataframe\">\n",
       "  <thead>\n",
       "    <tr style=\"text-align: right;\">\n",
       "      <th></th>\n",
       "      <th>perplexity</th>\n",
       "      <th>learning_rate</th>\n",
       "      <th>seed</th>\n",
       "      <th>method</th>\n",
       "      <th>runtime_sec</th>\n",
       "      <th>trustworthiness</th>\n",
       "    </tr>\n",
       "  </thead>\n",
       "  <tbody>\n",
       "    <tr>\n",
       "      <th>0</th>\n",
       "      <td>100</td>\n",
       "      <td>100</td>\n",
       "      <td>42</td>\n",
       "      <td>exact</td>\n",
       "      <td>21.871849</td>\n",
       "      <td>0.954067</td>\n",
       "    </tr>\n",
       "  </tbody>\n",
       "</table>\n",
       "</div>"
      ],
      "text/plain": [
       "   perplexity  learning_rate  seed method  runtime_sec  trustworthiness\n",
       "0         100            100    42  exact    21.871849         0.954067"
      ]
     },
     "execution_count": 13,
     "metadata": {},
     "output_type": "execute_result"
    }
   ],
   "source": [
    "# --- Run t-SNE on full filtered embeddings (configurable params) ---\n",
    "TSNE_INPUT = X_pca  # or filtered_embed_arr\n",
    "PERPLEXITIES = [100]\n",
    "LEARNING_RATES = [100]\n",
    "N_ITER = 6000\n",
    "SEEDS = [42]\n",
    "TSNE_METHOD = 'exact'  # 'exact' can be very slow for 1k+ samples in high dim\n",
    "\n",
    "results = []\n",
    "for perp in PERPLEXITIES:\n",
    "    for lr in LEARNING_RATES:\n",
    "        for seed in SEEDS:\n",
    "            print(f'Running t-SNE perp={perp} lr={lr} seed={seed}...')\n",
    "            t0 = time.time()\n",
    "            ts = TSNE(n_components=2, perplexity=perp, learning_rate=lr, max_iter=N_ITER,\n",
    "                      init='pca', random_state=seed, method=TSNE_METHOD, verbose=1)\n",
    "            Y = ts.fit_transform(TSNE_INPUT)\n",
    "            runtime = time.time() - t0\n",
    "            tw = trustworthiness(TSNE_INPUT, Y, n_neighbors=12)\n",
    "            out = {\n",
    "                'perplexity': perp,\n",
    "                'learning_rate': lr,\n",
    "                'seed': seed,\n",
    "                'method': TSNE_METHOD,\n",
    "                'runtime_sec': runtime,\n",
    "                'trustworthiness': tw,\n",
    "                'embedding': Y\n",
    "            }\n",
    "            results.append(out)\n",
    "            # save intermediate\n",
    "            np.savez_compressed(os.path.join(OUT_DIR, f'tsne_p{perp}_lr{lr}_s{seed}.npz'), Y=Y)\n",
    "            print('Done, runtime {:.1f}s trustworthiness {:.3f}'.format(runtime, tw))\n",
    "\n",
    "summary_df = pd.DataFrame([{k: v for k, v in r.items() if k != 'embedding'} for r in results])\n",
    "summary_df.to_csv(os.path.join(OUT_DIR, 'tsne_summary.csv'), index=False)\n",
    "summary_df"
   ]
  },
  {
   "cell_type": "code",
   "execution_count": 14,
   "id": "cea17b6b",
   "metadata": {},
   "outputs": [
    {
     "name": "stdout",
     "output_type": "stream",
     "text": [
      "UMAP library found!\n",
      "Running UMAP with 5 2D parameter sets and 2 3D parameter sets...\n",
      "UMAP 2D 1/5: n_neighbors=15, min_dist=0.1\n"
     ]
    },
    {
     "name": "stderr",
     "output_type": "stream",
     "text": [
      "c:\\Users\\andro\\anaconda3\\envs\\Masters\\lib\\site-packages\\umap\\umap_.py:1952: UserWarning:\n",
      "\n",
      "n_jobs value 1 overridden to 1 by setting random_state. Use no seed for parallelism.\n",
      "\n"
     ]
    },
    {
     "name": "stdout",
     "output_type": "stream",
     "text": [
      "  Done! Runtime: 2.0s, Trustworthiness: 0.945\n",
      "UMAP 2D 2/5: n_neighbors=30, min_dist=0.1\n"
     ]
    },
    {
     "name": "stderr",
     "output_type": "stream",
     "text": [
      "c:\\Users\\andro\\anaconda3\\envs\\Masters\\lib\\site-packages\\umap\\umap_.py:1952: UserWarning:\n",
      "\n",
      "n_jobs value 1 overridden to 1 by setting random_state. Use no seed for parallelism.\n",
      "\n"
     ]
    },
    {
     "name": "stdout",
     "output_type": "stream",
     "text": [
      "  Done! Runtime: 2.0s, Trustworthiness: 0.943\n",
      "UMAP 2D 3/5: n_neighbors=50, min_dist=0.1\n"
     ]
    },
    {
     "name": "stderr",
     "output_type": "stream",
     "text": [
      "c:\\Users\\andro\\anaconda3\\envs\\Masters\\lib\\site-packages\\umap\\umap_.py:1952: UserWarning:\n",
      "\n",
      "n_jobs value 1 overridden to 1 by setting random_state. Use no seed for parallelism.\n",
      "\n"
     ]
    },
    {
     "name": "stdout",
     "output_type": "stream",
     "text": [
      "  Done! Runtime: 2.4s, Trustworthiness: 0.935\n",
      "UMAP 2D 4/5: n_neighbors=15, min_dist=0.01\n"
     ]
    },
    {
     "name": "stderr",
     "output_type": "stream",
     "text": [
      "c:\\Users\\andro\\anaconda3\\envs\\Masters\\lib\\site-packages\\umap\\umap_.py:1952: UserWarning:\n",
      "\n",
      "n_jobs value 1 overridden to 1 by setting random_state. Use no seed for parallelism.\n",
      "\n"
     ]
    },
    {
     "name": "stdout",
     "output_type": "stream",
     "text": [
      "  Done! Runtime: 1.8s, Trustworthiness: 0.946\n",
      "UMAP 2D 5/5: n_neighbors=30, min_dist=0.01\n"
     ]
    },
    {
     "name": "stderr",
     "output_type": "stream",
     "text": [
      "c:\\Users\\andro\\anaconda3\\envs\\Masters\\lib\\site-packages\\umap\\umap_.py:1952: UserWarning:\n",
      "\n",
      "n_jobs value 1 overridden to 1 by setting random_state. Use no seed for parallelism.\n",
      "\n"
     ]
    },
    {
     "name": "stdout",
     "output_type": "stream",
     "text": [
      "  Done! Runtime: 2.0s, Trustworthiness: 0.947\n",
      "UMAP 3D 1/2: n_neighbors=15, min_dist=0.1\n"
     ]
    },
    {
     "name": "stderr",
     "output_type": "stream",
     "text": [
      "c:\\Users\\andro\\anaconda3\\envs\\Masters\\lib\\site-packages\\umap\\umap_.py:1952: UserWarning:\n",
      "\n",
      "n_jobs value 1 overridden to 1 by setting random_state. Use no seed for parallelism.\n",
      "\n"
     ]
    },
    {
     "name": "stdout",
     "output_type": "stream",
     "text": [
      "  Done! Runtime: 1.8s, Trustworthiness: 0.956\n",
      "UMAP 3D 2/2: n_neighbors=30, min_dist=0.1\n"
     ]
    },
    {
     "name": "stderr",
     "output_type": "stream",
     "text": [
      "c:\\Users\\andro\\anaconda3\\envs\\Masters\\lib\\site-packages\\umap\\umap_.py:1952: UserWarning:\n",
      "\n",
      "n_jobs value 1 overridden to 1 by setting random_state. Use no seed for parallelism.\n",
      "\n"
     ]
    },
    {
     "name": "stdout",
     "output_type": "stream",
     "text": [
      "  Done! Runtime: 2.2s, Trustworthiness: 0.954\n",
      "\n",
      "=== UMAP Results Summary ===\n",
      "  method  n_neighbors  min_dist  n_components  runtime_sec  trustworthiness\n",
      "0   UMAP           15      0.10             2        2.026            0.945\n",
      "1   UMAP           30      0.10             2        1.955            0.943\n",
      "2   UMAP           50      0.10             2        2.361            0.935\n",
      "3   UMAP           15      0.01             2        1.803            0.946\n",
      "4   UMAP           30      0.01             2        2.038            0.947\n",
      "5   UMAP           15      0.10             3        1.776            0.956\n",
      "6   UMAP           30      0.10             3        2.235            0.954\n",
      "\n",
      "🏆 Best 2D UMAP: n_neighbors=30, min_dist=0.01, trustworthiness=0.947\n",
      "🏆 Best 3D UMAP: n_neighbors=15, min_dist=0.1, trustworthiness=0.956\n",
      "\n",
      "📊 Comparison:\n",
      "Best t-SNE trustworthiness:  0.954\n",
      "Best UMAP 2D trustworthiness: 0.947\n",
      "Best UMAP 3D trustworthiness: 0.956\n",
      "UMAP 2D improvement: -0.007\n",
      "UMAP 3D improvement: +0.002\n",
      "\n",
      "📈 Creating UMAP visualizations...\n"
     ]
    },
    {
     "name": "stderr",
     "output_type": "stream",
     "text": [
      "C:\\Users\\andro\\AppData\\Local\\Temp\\ipykernel_30204\\1264741801.py:158: MatplotlibDeprecationWarning:\n",
      "\n",
      "The get_cmap function was deprecated in Matplotlib 3.7 and will be removed in 3.11. Use ``matplotlib.colormaps[name]`` or ``matplotlib.colormaps.get_cmap()`` or ``pyplot.get_cmap()`` instead.\n",
      "\n"
     ]
    },
    {
     "data": {
      "image/png": "[encoded data removed]",
      "text/plain": [
       "<Figure size 1600x600 with 2 Axes>"
      ]
     },
     "metadata": {},
     "output_type": "display_data"
    },
    {
     "data": {
      "application/vnd.plotly.v1+json": {
       "config": {
        "plotlyServerURL": "https://plot.ly"
       },
       "data": [
        {
         "customdata": [
          [
           "Cfb"
          ],
          [
           "Cfb"
          ],
          [
           "Cfb"
          ],
          [
           "Cfb"
          ],
          [
           "Cfb"
          ],
          [
           "Cfb"
          ],
          [
           "Cfb"
          ],
          [
           "Cfb"
          ],
          [
           "Cfb"
          ],
          [
           "Cfb"
          ],
          [
           "Cfb"
          ],
          [
           "Cfb"
          ],
          [
           "Cfb"
          ],
          [
           "Cfb"
          ],
          [
           "Cfb"
          ],
          [
           "Cfb"
          ],
          [
           "Cfb"
          ],
          [
           "Cfb"
          ],
          [
           "Cfb"
          ],
          [
           "Cfb"
          ],
          [
           "Cfb"
          ],
          [
           "Cfb"
          ],
          [
           "Cfb"
          ],
          [
           "Cfb"
          ],
          [
           "Cfb"
          ],
          [
           "Cfb"
          ],
          [
           "Cfb"
          ],
          [
           "Cfb"
          ],
          [
           "Cfb"
          ],
          [
           "Cfb"
          ],
          [
           "Cfb"
          ],
          [
           "Cfb"
          ],
          [
           "Cfb"
          ],
          [
           "Cfb"
          ],
          [
           "Cfb"
          ],
          [
           "Cfb"
          ],
          [
           "Cfb"
          ],
          [
           "Cfb"
          ],
          [
           "Cfb"
          ],
          [
           "Cfb"
          ],
          [
           "Cfb"
          ],
          [
           "Cfb"
          ],
          [
           "Cfb"
          ],
          [
           "Cfb"
          ],
          [
           "Cfb"
          ],
          [
           "Cfb"
          ],
          [
           "Cfb"
          ],
          [
           "Cfb"
          ],
          [
           "Cfb"
          ],
          [
           "Cfb"
          ],
          [
           "Cfb"
          ],
          [
           "Cfb"
          ],
          [
           "Cfb"
          ],
          [
           "Cfb"
          ],
          [
           "Cfb"
          ],
          [
           "Cfb"
          ],
          [
           "Cfb"
          ],
          [
           "Cfb"
          ],
          [
           "Cfb"
          ],
          [
           "Cfb"
          ],
          [
           "Cfb"
          ],
          [
           "Cfb"
          ],
          [
           "Cfb"
          ],
          [
           "Cfb"
          ],
          [
           "Cfb"
          ],
          [
           "Cfb"
          ],
          [
           "Cfb"
          ],
          [
           "Cfb"
          ],
          [
           "Cfb"
          ],
          [
           "Cfb"
          ],
          [
           "Cfb"
          ],
          [
           "Cfb"
          ],
          [
           "Cfb"
          ],
          [
           "Cfb"
          ],
          [
           "Cfb"
          ],
          [
           "Cfb"
          ],
          [
           "Cfb"
          ],
          [
           "Cfb"
          ],
          [
           "Cfb"
          ],
          [
           "Cfb"
          ],
          [
           "Cfb"
          ],
          [
           "Cfb"
          ],
          [
           "Cfb"
          ],
          [
           "Cfb"
          ],
          [
           "Cfb"
          ],
          [
           "Cfb"
          ],
          [
           "Cfb"
          ],
          [
           "Cfb"
          ],
          [
           "Cfb"
          ],
          [
           "Cfb"
          ],
          [
           "Cfb"
          ],
          [
           "Cfb"
          ],
          [
           "Cfb"
          ],
          [
           "Cfb"
          ],
          [
           "Cfb"
          ],
          [
           "Cfb"
          ],
          [
           "Cfb"
          ],
          [
           "Cfb"
          ],
          [
           "Cfb"
          ],
          [
           "Cfb"
          ],
          [
           "Cfb"
          ],
          [
           "Cfb"
          ],
          [
           "Cfb"
          ],
          [
           "Cfb"
          ],
          [
           "Cfb"
          ],
          [
           "Cfb"
          ],
          [
           "Cfb"
          ],
          [
           "Cfb"
          ],
          [
           "Cfb"
          ],
          [
           "Cfb"
          ],
          [
           "Cfb"
          ],
          [
           "Cfb"
          ],
          [
           "Cfb"
          ],
          [
           "Cfb"
          ],
          [
           "Cfb"
          ],
          [
           "Cfb"
          ],
          [
           "Cfb"
          ],
          [
           "Cfb"
          ],
          [
           "Cfb"
          ],
          [
           "Cfb"
          ],
          [
           "Cfb"
          ],
          [
           "Cfb"
          ],
          [
           "Cfb"
          ],
          [
           "Cfb"
          ],
          [
           "Cfb"
          ],
          [
           "Cfb"
          ],
          [
           "Cfb"
          ],
          [
           "Cfb"
          ],
          [
           "Cfb"
          ],
          [
           "Cfb"
          ],
          [
           "Cfb"
          ],
          [
           "Cfb"
          ],
          [
           "Cfb"
          ],
          [
           "Cfb"
          ],
          [
           "Cfb"
          ],
          [
           "Cfb"
          ],
          [
           "Cfb"
          ],
          [
           "Cfb"
          ],
          [
           "Cfb"
          ],
          [
           "Cfb"
          ],
          [
           "Cfb"
          ],
          [
           "Cfb"
          ],
          [
           "Cfb"
          ],
          [
           "Cfb"
          ],
          [
           "Cfb"
          ],
          [
           "Cfb"
          ],
          [
           "Cfb"
          ],
          [
           "Cfb"
          ],
          [
           "Cfb"
          ],
          [
           "Cfb"
          ],
          [
           "Cfb"
          ],
          [
           "Cfb"
          ],
          [
           "Cfb"
          ],
          [
           "Cfb"
          ],
          [
           "Cfb"
          ],
          [
           "Cfb"
          ],
          [
           "Cfb"
          ],
          [
           "Cfb"
          ],
          [
           "Cfb"
          ],
          [
           "Cfb"
          ],
          [
           "Cfb"
          ],
          [
           "Cfb"
          ],
          [
           "Cfb"
          ],
          [
           "Cfb"
          ],
          [
           "Cfb"
          ],
          [
           "Cfb"
          ],
          [
           "Cfb"
          ],
          [
           "Cfb"
          ],
          [
           "Cfb"
          ],
          [
           "Cfb"
          ],
          [
           "Cfb"
          ],
          [
           "Cfb"
          ],
          [
           "Cfb"
          ],
          [
           "Cfb"
          ],
          [
           "Cfb"
          ],
          [
           "Cfb"
          ],
          [
           "Cfb"
          ],
          [
           "Cfb"
          ],
          [
           "Cfb"
          ],
          [
           "Cfb"
          ],
          [
           "Cfb"
          ],
          [
           "Cfb"
          ],
          [
           "Cfb"
          ],
          [
           "Cfb"
          ],
          [
           "Cfb"
          ],
          [
           "Cfb"
          ],
          [
           "Cfb"
          ],
          [
           "Cfb"
          ],
          [
           "Cfb"
          ],
          [
           "Cfb"
          ],
          [
           "Cfb"
          ],
          [
           "Cfb"
          ],
          [
           "Cfb"
          ],
          [
           "Cfb"
          ],
          [
           "Cfb"
          ],
          [
           "Cfb"
          ],
          [
           "Cfb"
          ],
          [
           "Cfb"
          ],
          [
           "Cfb"
          ],
          [
           "Cfb"
          ],
          [
           "Cfb"
          ],
          [
           "Cfb"
          ],
          [
           "Cfb"
          ],
          [
           "Cfb"
          ],
          [
           "Cfb"
          ],
          [
           "Cfb"
          ],
          [
           "Cfb"
          ],
          [
           "Cfb"
          ],
          [
           "Cfb"
          ],
          [
           "Cfb"
          ],
          [
           "Cfb"
          ],
          [
           "Cfb"
          ],
          [
           "Cfb"
          ],
          [
           "Cfb"
          ],
          [
           "Cfb"
          ],
          [
           "Cfb"
          ],
          [
           "Cfb"
          ],
          [
           "Cfb"
          ],
          [
           "Cfb"
          ],
          [
           "Cfb"
          ],
          [
           "Cfb"
          ],
          [
           "Cfb"
          ],
          [
           "Cfb"
          ],
          [
           "Cfb"
          ],
          [
           "Cfb"
          ],
          [
           "Cfb"
          ],
          [
           "Cfb"
          ],
          [
           "Cfb"
          ],
          [
           "Cfb"
          ],
          [
           "Cfb"
          ],
          [
           "Cfb"
          ],
          [
           "Cfb"
          ],
          [
           "Cfb"
          ],
          [
           "Cfb"
          ],
          [
           "Cfb"
          ],
          [
           "Cfb"
          ],
          [
           "Cfb"
          ],
          [
           "Cfb"
          ],
          [
           "Cfb"
          ],
          [
           "Cfb"
          ],
          [
           "Cfb"
          ],
          [
           "Cfb"
          ],
          [
           "Cfb"
          ],
          [
           "Cfb"
          ],
          [
           "Cfb"
          ],
          [
           "Cfb"
          ],
          [
           "Cfb"
          ],
          [
           "Cfb"
          ],
          [
           "Cfb"
          ],
          [
           "Cfb"
          ],
          [
           "Cfb"
          ],
          [
           "Cfb"
          ],
          [
           "Cfb"
          ],
          [
           "Cfb"
          ],
          [
           "Cfb"
          ],
          [
           "Cfb"
          ],
          [
           "Cfb"
          ],
          [
           "Cfb"
          ],
          [
           "Cfb"
          ],
          [
           "Cfb"
          ],
          [
           "Cfb"
          ],
          [
           "Cfb"
          ],
          [
           "Cfb"
          ],
          [
           "Cfb"
          ],
          [
           "Cfb"
          ],
          [
           "Cfb"
          ],
          [
           "Cfb"
          ],
          [
           "Cfb"
          ],
          [
           "Cfb"
          ],
          [
           "Cfb"
          ],
          [
           "Cfb"
          ],
          [
           "Cfb"
          ],
          [
           "Cfb"
          ],
          [
           "Cfb"
          ],
          [
           "Cfb"
          ],
          [
           "Cfb"
          ],
          [
           "Cfb"
          ],
          [
           "Cfb"
          ],
          [
           "Cfb"
          ],
          [
           "Cfb"
          ],
          [
           "Cfb"
          ],
          [
           "Cfb"
          ],
          [
           "Cfb"
          ],
          [
           "Cfb"
          ],
          [
           "Cfb"
          ],
          [
           "Cfb"
          ],
          [
           "Cfb"
          ],
          [
           "Cfb"
          ],
          [
           "Cfb"
          ],
          [
           "Cfb"
          ],
          [
           "Cfb"
          ],
          [
           "Cfb"
          ],
          [
           "Cfb"
          ],
          [
           "Cfb"
          ],
          [
           "Cfb"
          ],
          [
           "Cfb"
          ],
          [
           "Cfb"
          ],
          [
           "Cfb"
          ],
          [
           "Cfb"
          ],
          [
           "Cfb"
          ],
          [
           "Cfb"
          ],
          [
           "Cfb"
          ],
          [
           "Cfb"
          ],
          [
           "Cfb"
          ],
          [
           "Cfb"
          ],
          [
           "Cfb"
          ],
          [
           "Cfb"
          ],
          [
           "Cfb"
          ],
          [
           "Cfb"
          ],
          [
           "Cfb"
          ],
          [
           "Cfb"
          ],
          [
           "Cfb"
          ],
          [
           "Cfb"
          ],
          [
           "Cfb"
          ],
          [
           "Cfb"
          ],
          [
           "Cfb"
          ],
          [
           "Cfb"
          ],
          [
           "Cfb"
          ],
          [
           "Cfb"
          ],
          [
           "Cfb"
          ],
          [
           "Cfb"
          ],
          [
           "Cfb"
          ],
          [
           "Cfb"
          ],
          [
           "Cfb"
          ],
          [
           "Cfb"
          ],
          [
           "Cfb"
          ],
          [
           "Cfb"
          ],
          [
           "Cfb"
          ],
          [
           "Cfb"
          ],
          [
           "Cfb"
          ],
          [
           "Cfb"
          ],
          [
           "Cfb"
          ],
          [
           "Cfb"
          ],
          [
           "Cfb"
          ],
          [
           "Cfb"
          ],
          [
           "Cfb"
          ],
          [
           "Cfb"
          ],
          [
           "Cfb"
          ],
          [
           "Cfb"
          ],
          [
           "Cfb"
          ],
          [
           "Cfb"
          ],
          [
           "Cfb"
          ],
          [
           "Cfb"
          ],
          [
           "Cfb"
          ],
          [
           "Cfb"
          ],
          [
           "Cfb"
          ],
          [
           "Cfb"
          ],
          [
           "Cfb"
          ],
          [
           "Cfb"
          ],
          [
           "Cfb"
          ],
          [
           "Cfb"
          ],
          [
           "Cfb"
          ],
          [
           "Cfb"
          ],
          [
           "Cfb"
          ],
          [
           "Cfb"
          ],
          [
           "Cfb"
          ],
          [
           "Cfb"
          ],
          [
           "Cfb"
          ],
          [
           "Cfb"
          ],
          [
           "Cfb"
          ],
          [
           "Cfb"
          ],
          [
           "Cfb"
          ],
          [
           "Cfb"
          ],
          [
           "Cfb"
          ],
          [
           "Cfb"
          ],
          [
           "Cfb"
          ],
          [
           "Cfb"
          ],
          [
           "Cfb"
          ],
          [
           "Cfb"
          ],
          [
           "Cfb"
          ],
          [
           "Cfb"
          ],
          [
           "Cfb"
          ],
          [
           "Cfb"
          ],
          [
           "Cfb"
          ],
          [
           "Cfb"
          ],
          [
           "Cfb"
          ],
          [
           "Cfb"
          ],
          [
           "Cfb"
          ],
          [
           "Cfb"
          ],
          [
           "Cfb"
          ],
          [
           "Cfb"
          ],
          [
           "Cfb"
          ],
          [
           "Cfb"
          ],
          [
           "Cfb"
          ],
          [
           "Cfb"
          ],
          [
           "Cfb"
          ],
          [
           "Cfb"
          ],
          [
           "Cfb"
          ],
          [
           "Cfb"
          ],
          [
           "Cfb"
          ],
          [
           "Cfb"
          ]
         ],
         "hovertemplate": "<b>%{hovertext}</b><br><br>color=Cfb<br>x=%{x}<br>y=%{y}<br>hover_data_0=%{customdata[0]}<extra></extra>",
         "hovertext": [
          "88",
          "108",
          "139",
          "159",
          "265",
          "350",
          "351",
          "1061",
          "1062",
          "1063",
          "1066",
          "1070",
          "1158",
          "1166",
          "4779",
          "4807",
          "4826",
          "4840",
          "4857",
          "4884",
          "4900",
          "4939",
          "4958",
          "5023",
          "5104",
          "5151",
          "5165",
          "5210",
          "5236",
          "5249",
          "5253",
          "5276",
          "5279",
          "5349",
          "5395",
          "5486",
          "5577",
          "5644",
          "5651",
          "5717",
          "5718",
          "5720",
          "5726",
          "5741",
          "5748",
          "5757",
          "5768",
          "5772",
          "5776",
          "5779",
          "5784",
          "5798",
          "5811",
          "5822",
          "5830",
          "5831",
          "5832",
          "5836",
          "5865",
          "5867",
          "6019",
          "6020",
          "6021",
          "6022",
          "6023",
          "6024",
          "6040",
          "6042",
          "6073",
          "6074",
          "6076",
          "6077",
          "6085",
          "6087",
          "6088",
          "6090",
          "6091",
          "6092",
          "6094",
          "6095",
          "6096",
          "6097",
          "6098",
          "6099",
          "6100",
          "6101",
          "6102",
          "6104",
          "6105",
          "6106",
          "6107",
          "6108",
          "6109",
          "6111",
          "6112",
          "6113",
          "6114",
          "6115",
          "6118",
          "6119",
          "6122",
          "6123",
          "6124",
          "6125",
          "6126",
          "6128",
          "6131",
          "6132",
          "6133",
          "6134",
          "6136",
          "6138",
          "6140",
          "6141",
          "6148",
          "6149",
          "6150",
          "6151",
          "6188",
          "6189",
          "6191",
          "6192",
          "6193",
          "6194",
          "6195",
          "6198",
          "6201",
          "6202",
          "6203",
          "6242",
          "6413",
          "6680",
          "6897",
          "6898",
          "6907",
          "6908",
          "6915",
          "6919",
          "6920",
          "6922",
          "6923",
          "6924",
          "6940",
          "6943",
          "6944",
          "6945",
          "6958",
          "6959",
          "6960",
          "6966",
          "6967",
          "6973",
          "6974",
          "6979",
          "6982",
          "6986",
          "6987",
          "6989",
          "6990",
          "6992",
          "6997",
          "7000",
          "7002",
          "7003",
          "7008",
          "7013",
          "7014",
          "7026",
          "7028",
          "7031",
          "7036",
          "7061",
          "7062",
          "7064",
          "7071",
          "7092",
          "7094",
          "7096",
          "7102",
          "7106",
          "7107",
          "7109",
          "7111",
          "7117",
          "7119",
          "7120",
          "7125",
          "7130",
          "7133",
          "7138",
          "7143",
          "7147",
          "7161",
          "7162",
          "7163",
          "7164",
          "7165",
          "7169",
          "7181",
          "7192",
          "7199",
          "7202",
          "7208",
          "7209",
          "7217",
          "7218",
          "7223",
          "7231",
          "7244",
          "7248",
          "7250",
          "7258",
          "7268",
          "7273",
          "7276",
          "7280",
          "7282",
          "7287",
          "7305",
          "7306",
          "7307",
          "7316",
          "7320",
          "7337",
          "7342",
          "7343",
          "7344",
          "7346",
          "7353",
          "7378",
          "7382",
          "7383",
          "7384",
          "7387",
          "7404",
          "7415",
          "7417",
          "7418",
          "7419",
          "7430",
          "8214",
          "8230",
          "8231",
          "8237",
          "8238",
          "8239",
          "8240",
          "8244",
          "8283",
          "8290",
          "8312",
          "8334",
          "8335",
          "8343",
          "8366",
          "8369",
          "8420",
          "8422",
          "8426",
          "8427",
          "9057",
          "9298",
          "9380",
          "9399",
          "9404",
          "9405",
          "9407",
          "9409",
          "9416",
          "9436",
          "9437",
          "9442",
          "9450",
          "9451",
          "9452",
          "9453",
          "9454",
          "9455",
          "9471",
          "9503",
          "9524",
          "9540",
          "9546",
          "9547",
          "9557",
          "9562",
          "9564",
          "9565",
          "9567",
          "9571",
          "9577",
          "9585",
          "9594",
          "9597",
          "9601",
          "9707",
          "9716",
          "9749",
          "9768",
          "9769",
          "9770",
          "9771",
          "9772",
          "9774",
          "9775",
          "9776",
          "9777",
          "9778",
          "9779",
          "9780",
          "9781",
          "9782",
          "9783",
          "9784",
          "9785",
          "9786",
          "9787",
          "9788",
          "9789",
          "9790",
          "9791",
          "9792",
          "9793",
          "9794",
          "9795",
          "9796",
          "9797",
          "9798",
          "9799",
          "9800",
          "9801",
          "9802",
          "9803",
          "9804",
          "9805",
          "9806",
          "9807",
          "9808",
          "9809",
          "9810",
          "9811",
          "9812",
          "9813",
          "9814",
          "9815",
          "9816",
          "9819",
          "9823",
          "9824",
          "9827",
          "9846",
          "9847",
          "9850",
          "9854",
          "9860",
          "9868",
          "9874",
          "9875",
          "9883",
          "9886",
          "9890",
          "9899",
          "9903",
          "9908",
          "9909",
          "9910",
          "9911",
          "9912",
          "9914",
          "9915",
          "9917",
          "9918",
          "9920",
          "9921",
          "9924",
          "9925",
          "9926",
          "9935",
          "9937",
          "9938",
          "9970",
          "9971",
          "9972",
          "9996",
          "9997",
          "9998",
          "9999",
          "10001",
          "10002",
          "10022",
          "10027"
         ],
         "legendgroup": "Cfb",
         "marker": {
          "color": "#636EFA",
          "symbol": "circle"
         },
         "mode": "markers",
         "name": "Cfb",
         "showlegend": true,
         "type": "scattergl",
         "x": {
          "bdata": "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",
          "dtype": "f4"
         },
         "xaxis": "x",
         "y": {
          "bdata": "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",
          "dtype": "f4"
         },
         "yaxis": "y"
        },
        {
         "customdata": [
          [
           "Dfb"
          ],
          [
           "Dfb"
          ],
          [
           "Dfb"
          ],
          [
           "Dfb"
          ],
          [
           "Dfb"
          ],
          [
           "Dfb"
          ],
          [
           "Dfb"
          ],
          [
           "Dfb"
          ],
          [
           "Dfb"
          ],
          [
           "Dfb"
          ],
          [
           "Dfb"
          ],
          [
           "Dfb"
          ],
          [
           "Dfb"
          ],
          [
           "Dfb"
          ],
          [
           "Dfb"
          ],
          [
           "Dfb"
          ],
          [
           "Dfb"
          ],
          [
           "Dfb"
          ],
          [
           "Dfb"
          ],
          [
           "Dfb"
          ],
          [
           "Dfb"
          ],
          [
           "Dfb"
          ],
          [
           "Dfb"
          ],
          [
           "Dfb"
          ],
          [
           "Dfb"
          ],
          [
           "Dfb"
          ],
          [
           "Dfb"
          ],
          [
           "Dfb"
          ],
          [
           "Dfb"
          ],
          [
           "Dfb"
          ],
          [
           "Dfb"
          ],
          [
           "Dfb"
          ],
          [
           "Dfb"
          ],
          [
           "Dfb"
          ],
          [
           "Dfb"
          ],
          [
           "Dfb"
          ],
          [
           "Dfb"
          ],
          [
           "Dfb"
          ],
          [
           "Dfb"
          ],
          [
           "Dfb"
          ],
          [
           "Dfb"
          ],
          [
           "Dfb"
          ],
          [
           "Dfb"
          ],
          [
           "Dfb"
          ],
          [
           "Dfb"
          ],
          [
           "Dfb"
          ],
          [
           "Dfb"
          ],
          [
           "Dfb"
          ],
          [
           "Dfb"
          ],
          [
           "Dfb"
          ],
          [
           "Dfb"
          ],
          [
           "Dfb"
          ],
          [
           "Dfb"
          ],
          [
           "Dfb"
          ],
          [
           "Dfb"
          ],
          [
           "Dfb"
          ],
          [
           "Dfb"
          ],
          [
           "Dfb"
          ],
          [
           "Dfb"
          ],
          [
           "Dfb"
          ],
          [
           "Dfb"
          ],
          [
           "Dfb"
          ],
          [
           "Dfb"
          ],
          [
           "Dfb"
          ],
          [
           "Dfb"
          ],
          [
           "Dfb"
          ],
          [
           "Dfb"
          ],
          [
           "Dfb"
          ],
          [
           "Dfb"
          ],
          [
           "Dfb"
          ],
          [
           "Dfb"
          ],
          [
           "Dfb"
          ],
          [
           "Dfb"
          ],
          [
           "Dfb"
          ],
          [
           "Dfb"
          ],
          [
           "Dfb"
          ],
          [
           "Dfb"
          ],
          [
           "Dfb"
          ],
          [
           "Dfb"
          ],
          [
           "Dfb"
          ],
          [
           "Dfb"
          ],
          [
           "Dfb"
          ],
          [
           "Dfb"
          ],
          [
           "Dfb"
          ],
          [
           "Dfb"
          ],
          [
           "Dfb"
          ],
          [
           "Dfb"
          ],
          [
           "Dfb"
          ],
          [
           "Dfb"
          ],
          [
           "Dfb"
          ],
          [
           "Dfb"
          ],
          [
           "Dfb"
          ],
          [
           "Dfb"
          ],
          [
           "Dfb"
          ],
          [
           "Dfb"
          ],
          [
           "Dfb"
          ],
          [
           "Dfb"
          ],
          [
           "Dfb"
          ],
          [
           "Dfb"
          ],
          [
           "Dfb"
          ],
          [
           "Dfb"
          ],
          [
           "Dfb"
          ],
          [
           "Dfb"
          ],
          [
           "Dfb"
          ],
          [
           "Dfb"
          ],
          [
           "Dfb"
          ],
          [
           "Dfb"
          ],
          [
           "Dfb"
          ],
          [
           "Dfb"
          ],
          [
           "Dfb"
          ],
          [
           "Dfb"
          ],
          [
           "Dfb"
          ],
          [
           "Dfb"
          ],
          [
           "Dfb"
          ],
          [
           "Dfb"
          ],
          [
           "Dfb"
          ],
          [
           "Dfb"
          ],
          [
           "Dfb"
          ],
          [
           "Dfb"
          ],
          [
           "Dfb"
          ],
          [
           "Dfb"
          ],
          [
           "Dfb"
          ],
          [
           "Dfb"
          ],
          [
           "Dfb"
          ],
          [
           "Dfb"
          ],
          [
           "Dfb"
          ],
          [
           "Dfb"
          ],
          [
           "Dfb"
          ],
          [
           "Dfb"
          ],
          [
           "Dfb"
          ],
          [
           "Dfb"
          ],
          [
           "Dfb"
          ],
          [
           "Dfb"
          ],
          [
           "Dfb"
          ],
          [
           "Dfb"
          ],
          [
           "Dfb"
          ],
          [
           "Dfb"
          ],
          [
           "Dfb"
          ],
          [
           "Dfb"
          ],
          [
           "Dfb"
          ],
          [
           "Dfb"
          ],
          [
           "Dfb"
          ],
          [
           "Dfb"
          ],
          [
           "Dfb"
          ],
          [
           "Dfb"
          ],
          [
           "Dfb"
          ],
          [
           "Dfb"
          ],
          [
           "Dfb"
          ],
          [
           "Dfb"
          ],
          [
           "Dfb"
          ],
          [
           "Dfb"
          ],
          [
           "Dfb"
          ],
          [
           "Dfb"
          ],
          [
           "Dfb"
          ],
          [
           "Dfb"
          ],
          [
           "Dfb"
          ],
          [
           "Dfb"
          ],
          [
           "Dfb"
          ],
          [
           "Dfb"
          ],
          [
           "Dfb"
          ],
          [
           "Dfb"
          ],
          [
           "Dfb"
          ],
          [
           "Dfb"
          ],
          [
           "Dfb"
          ],
          [
           "Dfb"
          ],
          [
           "Dfb"
          ],
          [
           "Dfb"
          ],
          [
           "Dfb"
          ],
          [
           "Dfb"
          ],
          [
           "Dfb"
          ],
          [
           "Dfb"
          ],
          [
           "Dfb"
          ],
          [
           "Dfb"
          ],
          [
           "Dfb"
          ],
          [
           "Dfb"
          ],
          [
           "Dfb"
          ],
          [
           "Dfb"
          ],
          [
           "Dfb"
          ],
          [
           "Dfb"
          ],
          [
           "Dfb"
          ],
          [
           "Dfb"
          ],
          [
           "Dfb"
          ],
          [
           "Dfb"
          ],
          [
           "Dfb"
          ],
          [
           "Dfb"
          ],
          [
           "Dfb"
          ],
          [
           "Dfb"
          ],
          [
           "Dfb"
          ],
          [
           "Dfb"
          ],
          [
           "Dfb"
          ],
          [
           "Dfb"
          ],
          [
           "Dfb"
          ],
          [
           "Dfb"
          ],
          [
           "Dfb"
          ],
          [
           "Dfb"
          ],
          [
           "Dfb"
          ],
          [
           "Dfb"
          ],
          [
           "Dfb"
          ],
          [
           "Dfb"
          ],
          [
           "Dfb"
          ],
          [
           "Dfb"
          ],
          [
           "Dfb"
          ],
          [
           "Dfb"
          ],
          [
           "Dfb"
          ],
          [
           "Dfb"
          ],
          [
           "Dfb"
          ],
          [
           "Dfb"
          ],
          [
           "Dfb"
          ],
          [
           "Dfb"
          ],
          [
           "Dfb"
          ],
          [
           "Dfb"
          ],
          [
           "Dfb"
          ],
          [
           "Dfb"
          ],
          [
           "Dfb"
          ],
          [
           "Dfb"
          ],
          [
           "Dfb"
          ],
          [
           "Dfb"
          ],
          [
           "Dfb"
          ],
          [
           "Dfb"
          ],
          [
           "Dfb"
          ],
          [
           "Dfb"
          ],
          [
           "Dfb"
          ],
          [
           "Dfb"
          ],
          [
           "Dfb"
          ],
          [
           "Dfb"
          ],
          [
           "Dfb"
          ],
          [
           "Dfb"
          ],
          [
           "Dfb"
          ],
          [
           "Dfb"
          ],
          [
           "Dfb"
          ],
          [
           "Dfb"
          ],
          [
           "Dfb"
          ],
          [
           "Dfb"
          ],
          [
           "Dfb"
          ],
          [
           "Dfb"
          ],
          [
           "Dfb"
          ],
          [
           "Dfb"
          ],
          [
           "Dfb"
          ],
          [
           "Dfb"
          ],
          [
           "Dfb"
          ],
          [
           "Dfb"
          ],
          [
           "Dfb"
          ],
          [
           "Dfb"
          ],
          [
           "Dfb"
          ],
          [
           "Dfb"
          ],
          [
           "Dfb"
          ],
          [
           "Dfb"
          ],
          [
           "Dfb"
          ],
          [
           "Dfb"
          ],
          [
           "Dfb"
          ],
          [
           "Dfb"
          ],
          [
           "Dfb"
          ],
          [
           "Dfb"
          ],
          [
           "Dfb"
          ],
          [
           "Dfb"
          ],
          [
           "Dfb"
          ],
          [
           "Dfb"
          ]
         ],
         "hovertemplate": "<b>%{hovertext}</b><br><br>color=Dfb<br>x=%{x}<br>y=%{y}<br>hover_data_0=%{customdata[0]}<extra></extra>",
         "hovertext": [
          "403",
          "410",
          "424",
          "428",
          "430",
          "1254",
          "1257",
          "1313",
          "1317",
          "1552",
          "1651",
          "1652",
          "1851",
          "1852",
          "1853",
          "1872",
          "1890",
          "1925",
          "1942",
          "1943",
          "1954",
          "2016",
          "2017",
          "2081",
          "2091",
          "2106",
          "2108",
          "2141",
          "2191",
          "2202",
          "2212",
          "2276",
          "2278",
          "2285",
          "2286",
          "5837",
          "5874",
          "5890",
          "5893",
          "5907",
          "5921",
          "5950",
          "5984",
          "5993",
          "6008",
          "6009",
          "6010",
          "6011",
          "6012",
          "6013",
          "6016",
          "6017",
          "6025",
          "6030",
          "6034",
          "6035",
          "6036",
          "6038",
          "6039",
          "6043",
          "6046",
          "6064",
          "6069",
          "6070",
          "6071",
          "6086",
          "6137",
          "6142",
          "6145",
          "6153",
          "6154",
          "6163",
          "6166",
          "6169",
          "6172",
          "6173",
          "6174",
          "6177",
          "6180",
          "6209",
          "6210",
          "6214",
          "6216",
          "6217",
          "6218",
          "6220",
          "6221",
          "6231",
          "6235",
          "6237",
          "6238",
          "6240",
          "6241",
          "6243",
          "6244",
          "6296",
          "6390",
          "6396",
          "6424",
          "6434",
          "6445",
          "6900",
          "6901",
          "6903",
          "6904",
          "6913",
          "6926",
          "6932",
          "6938",
          "6951",
          "6956",
          "6957",
          "6968",
          "6969",
          "6975",
          "6976",
          "6981",
          "6984",
          "7072",
          "7103",
          "7126",
          "7127",
          "7158",
          "7160",
          "7177",
          "7186",
          "7203",
          "7213",
          "7255",
          "7288",
          "7296",
          "7322",
          "7333",
          "7347",
          "7349",
          "7354",
          "7372",
          "7377",
          "7394",
          "7396",
          "7411",
          "7413",
          "7424",
          "7461",
          "7520",
          "7521",
          "8227",
          "8234",
          "8235",
          "8236",
          "8241",
          "8247",
          "8249",
          "8256",
          "8258",
          "8259",
          "8284",
          "8285",
          "8297",
          "8306",
          "8307",
          "8351",
          "8354",
          "8365",
          "8376",
          "8386",
          "8387",
          "8419",
          "9058",
          "9121",
          "9321",
          "9323",
          "9332",
          "9336",
          "9339",
          "9352",
          "9353",
          "9369",
          "9370",
          "9386",
          "9388",
          "9390",
          "9391",
          "9392",
          "9395",
          "9402",
          "9408",
          "9412",
          "9413",
          "9427",
          "9433",
          "9470",
          "9525",
          "9568",
          "9607",
          "9610",
          "9611",
          "9612",
          "9613",
          "9615",
          "9616",
          "9622",
          "9625",
          "9626",
          "9627",
          "9628",
          "9629",
          "9630",
          "9634",
          "9639",
          "9697",
          "9706",
          "9718",
          "9721",
          "9722",
          "9723",
          "9728",
          "9729",
          "9730",
          "9731",
          "9732",
          "9733",
          "9735",
          "9738",
          "9743",
          "9894",
          "9950",
          "9951",
          "9952",
          "9953",
          "9955",
          "9956",
          "9957",
          "9958",
          "9959",
          "9960",
          "9978",
          "9979",
          "9985",
          "9986",
          "9988",
          "9995",
          "10020",
          "14312",
          "14313",
          "14314",
          "14315",
          "14318",
          "14319",
          "15591",
          "15592",
          "15593",
          "18694",
          "18696",
          "19949",
          "19950",
          "19951"
         ],
         "legendgroup": "Dfb",
         "marker": {
          "color": "#EF553B",
          "symbol": "circle"
         },
         "mode": "markers",
         "name": "Dfb",
         "showlegend": true,
         "type": "scattergl",
         "x": {
          "bdata": "KhseQW6lGkFdFx9BpakYQUcPQ0Ews05B3wFJQc6dUkE/AVpBaN5GQQbXZ0EXG2ZBES1mQcrUaEF/o1ZB9ARjQUhYKkHXoFRBv9hlQeUfZkFglVNBTaJOQW5ZaUGnh2VBmJ5lQSClaEH4RmlBC6FoQRwnZ0Hs4DNBq3VpQQ1wJ0HyelVBsDdoQSKJZkEfHWdB4sseQVw6HEEFlR5BUqodQacAE0EMykBBHT0eQY+hEUGwtj5Bkvo4QYgAOkF8bVlB02g4QSMDTUFwHwhBhuI2Qf/jT0GbjvJANOtiQZnsAkE8PFZBqQlnQRGBBUG4a/tAsHMKQTSWDUG0/TlB3N0uQYFVM0EKzFRB3YNQQfXuYkFppFFB1+RPQYg2TkFrRlBBjZRQQSCINkFmUTdBD4A2Qe5KNkGe205BJSZhQWcsOkF/RzlBXKQ4QcQAPUGSRzdBdUY4QUn0M0EtUDlBedEQQXWOXEGKSyZBD9k1QS1mLUECggJBnIU8Qf1rLEGVJhpBovIeQd1HGkHMcDtBd3kmQcB9EUHQPv5AYbcKQXsSSkHOtENBpDo1QXJ9K0GdVlhBjNUlQdWpK0G7dU1BE30QQZ2M/UDA6zNBbkssQU8VWUFCVTxBo58dQR1tPkGs8h9Bz+kqQfp7UkHNFFFBDfwjQUuLNEHlkVFBJ9pZQd7GVUG1fB5BKmtlQTOuUUHvVFdBXNIRQfL/QEHVeyFB8cdIQVAvWEGcelhBawYrQY21VEFHxUJBSCBnQbUzD0H0XRBB8sE7QRT2YkFygjpBxhlYQcBQNEEGZhBBIJNaQRQ3DUEPqg1BvjINQblWZ0E+PmdBA4EmQab4P0FpuVlBbQMbQfQMZ0HPVx9BrzM8QXckV0EPc01BS1RfQbVgBkGXnFdBwkRLQU0uUUEB7DRBh5Y3QbLJG0H5nF1BA4tcQf/0YUFdcV1BRNpUQdKOZEF5YzlBodY4QeNWaEHNvGhBPWdoQRt/DUEu5l5BXbo2QdrIaEEeh2hBNEQ4QSBHOUEUsWNBUihdQesVQ0H8+yVBgd8qQVHDKkEfvytBS2QpQb1gK0Gp2ihBpSRQQXcHJkHEOSdB4uolQSNNJkGaSClB1wMoQTkpJEEoziRBN4VVQVaMQkFskERBsbAoQay6UUFV3SxBY0U/QauAX0HtH0xBqfpXQY9AWkGVtltBHdJOQa+FT0HU/1BBP1g+QZebD0G0BPNAkpfvQKPvJEGZRu5A+QYMQQB860ArdCVBx17wQBsu7kCFn/tAOFYNQdVy60ARYu1AWa8KQQ35AkHWni9BWaBmQVx4ZkHkYmZBb/5lQSi9aUEKyGVBA0VbQWXtI0EoKVtB63FTQd4WWkGej1pBe+ZaQQ4dW0E=",
          "dtype": "f4"
         },
         "xaxis": "x",
         "y": {
          "bdata": "yMsaQbYvHkF6Bh1BDdoeQQbTIUGs59dA5MXWQEk+4UDD2b9AaA8QQdgVyj9EDLs/EKGrP10dqj+w+pdA/9beP3t9wkCp5StBKzsYQO1PFEC5qKBA/UsrQdyO0j/CKhpAuScaQI+m/z//nc8/ShMIQPNkpj/anyBBWZ/RP0o790Bf2ZpADojIPwtnqT/DsiVBlEIdQc4eHUHQthxBG/McQX2VH0Fk2ShBJSAcQRrQH0Gmrv1AB5/jQCHW10Dunx1BXrDMQIOhG0EMghNBnuTOQJju4kA+tSFBqZTQQOtBGkEAcwdBlqoNQe2oFEG0QRRBEBQTQZKLEUHJ999AqY7QQIx4zUBY1iRBG1sfQW0B5kAUByFBus3eQKBm4kAMTOBAPX7fQP/4y0B8+cxAwCLNQA6hy0DvLd1APU8JQaGf1UASu99AZgPLQMF1zkD1VctApxvMQH3aE0FIedBAI+wSQazSG0Ea+dBASsnGQAF8DEH21xhBrA0RQRGIEkGDzh5B6c8eQfTEHkFoH/dAFN74QKvTH0EtfRRBtF8TQV1VGUEtKJdAaKMSQezK80D1nsNA+DzBQOzmF0Hm5ipBv3vqQBdVFEHl68JA7cEXQQFIr0Aw+xpBe3caQbwwIkGIKA9B06jVQN34D0Gsx+tAnXwGQX7sFUFyIypBBeP6QMbmykAoNBRBsaISQTrgK0FbtLhA0iUPQZShGEEN7hNBfL0RQRNHEUHWOI5AR/sBQXp200BnliZBQWwOQQJrEkFqeupACRESQbYjFEHDahRBjM6pQGpRIUEPbupA6hXNQM4FEkF+QRJByE0SQbDDJEFEkyRB+Tz6QB2rFkFsGfBA2FoRQdaiDUGtcxNB+7ECQXpgCkHkedlAEVkPQf8HFEGdqglB/rMbQZ9n8EB13chAwaPNQByy7UBOHwNB+oQUQeYQFUEzJhRB/6qlQCi15D9nd8dAgpXPQBiQJUEOhiVBwKolQRwZEUF1zcJAJ8wUQaafJkGYWydBUgrNQNYp1UAF5RFBsFcRQYsd4EBwm9xARrfJQHxyykCIJc1AAkbPQLkMyEAL1MFAUUe4QKNJwUAZKMdAU13XQChd2EBaoMRA4HTHQFB9wUDGyMFAmgmvQA/HKUHReRhBMUjOQOLYK0G+kPlAPo7zQHU/FEGS3ixBspwrQV9h+0AHnw5BSakrQQ2GK0GQ68ZASsomQRUsEkGYESJBeO4iQZH03UBqvSJBMvsUQTO1I0HdbNFAWkgjQXGaIUFuSBRB/r4TQeRgI0H6zyJBXJUWQcSnHkHSXhtBAVoTQVOIE0G+FRRBQh8TQRpZJUGGaBVBUvYsQSK2GUGWyyxBJQvdQB9dHkERKy1BrBotQRDgLUE=",
          "dtype": "f4"
         },
         "yaxis": "y"
        },
        {
         "customdata": [
          [
           "Dfa"
          ],
          [
           "Dfa"
          ],
          [
           "Dfa"
          ],
          [
           "Dfa"
          ],
          [
           "Dfa"
          ],
          [
           "Dfa"
          ],
          [
           "Dfa"
          ],
          [
           "Dfa"
          ],
          [
           "Dfa"
          ],
          [
           "Dfa"
          ],
          [
           "Dfa"
          ],
          [
           "Dfa"
          ],
          [
           "Dfa"
          ],
          [
           "Dfa"
          ],
          [
           "Dfa"
          ],
          [
           "Dfa"
          ],
          [
           "Dfa"
          ],
          [
           "Dfa"
          ],
          [
           "Dfa"
          ],
          [
           "Dfa"
          ],
          [
           "Dfa"
          ],
          [
           "Dfa"
          ],
          [
           "Dfa"
          ],
          [
           "Dfa"
          ],
          [
           "Dfa"
          ],
          [
           "Dfa"
          ],
          [
           "Dfa"
          ],
          [
           "Dfa"
          ],
          [
           "Dfa"
          ],
          [
           "Dfa"
          ],
          [
           "Dfa"
          ],
          [
           "Dfa"
          ],
          [
           "Dfa"
          ],
          [
           "Dfa"
          ],
          [
           "Dfa"
          ],
          [
           "Dfa"
          ],
          [
           "Dfa"
          ],
          [
           "Dfa"
          ],
          [
           "Dfa"
          ],
          [
           "Dfa"
          ],
          [
           "Dfa"
          ],
          [
           "Dfa"
          ],
          [
           "Dfa"
          ],
          [
           "Dfa"
          ],
          [
           "Dfa"
          ],
          [
           "Dfa"
          ],
          [
           "Dfa"
          ],
          [
           "Dfa"
          ],
          [
           "Dfa"
          ],
          [
           "Dfa"
          ],
          [
           "Dfa"
          ],
          [
           "Dfa"
          ],
          [
           "Dfa"
          ],
          [
           "Dfa"
          ],
          [
           "Dfa"
          ],
          [
           "Dfa"
          ],
          [
           "Dfa"
          ],
          [
           "Dfa"
          ],
          [
           "Dfa"
          ],
          [
           "Dfa"
          ],
          [
           "Dfa"
          ],
          [
           "Dfa"
          ],
          [
           "Dfa"
          ],
          [
           "Dfa"
          ],
          [
           "Dfa"
          ],
          [
           "Dfa"
          ],
          [
           "Dfa"
          ],
          [
           "Dfa"
          ],
          [
           "Dfa"
          ],
          [
           "Dfa"
          ],
          [
           "Dfa"
          ],
          [
           "Dfa"
          ],
          [
           "Dfa"
          ],
          [
           "Dfa"
          ],
          [
           "Dfa"
          ],
          [
           "Dfa"
          ],
          [
           "Dfa"
          ],
          [
           "Dfa"
          ],
          [
           "Dfa"
          ],
          [
           "Dfa"
          ]
         ],
         "hovertemplate": "<b>%{hovertext}</b><br><br>color=Dfa<br>x=%{x}<br>y=%{y}<br>hover_data_0=%{customdata[0]}<extra></extra>",
         "hovertext": [
          "470",
          "476",
          "484",
          "504",
          "506",
          "531",
          "853",
          "854",
          "867",
          "868",
          "870",
          "915",
          "932",
          "1612",
          "1622",
          "1676",
          "1684",
          "1739",
          "1741",
          "1756",
          "1757",
          "1793",
          "1797",
          "1819",
          "1820",
          "1829",
          "1834",
          "1835",
          "2031",
          "2053",
          "2057",
          "2159",
          "2166",
          "2171",
          "2239",
          "2240",
          "2317",
          "2370",
          "2412",
          "6749",
          "6750",
          "6805",
          "6806",
          "6814",
          "6927",
          "7323",
          "7356",
          "7358",
          "7359",
          "7475",
          "7477",
          "7514",
          "7515",
          "7523",
          "7525",
          "7529",
          "7530",
          "7566",
          "7568",
          "7717",
          "7757",
          "7767",
          "7917",
          "7947",
          "8037",
          "8057",
          "8077",
          "8132",
          "8171",
          "8233",
          "8464",
          "8483",
          "8699",
          "8723",
          "9027",
          "9701",
          "9736",
          "9741",
          "9744",
          "10004"
         ],
         "legendgroup": "Dfa",
         "marker": {
          "color": "#00CC96",
          "symbol": "circle"
         },
         "mode": "markers",
         "name": "Dfa",
         "showlegend": true,
         "type": "scattergl",
         "x": {
          "bdata": "Bk1oQTeFaEGTBGZBUqNlQQUuaUE42GhBKPtnQTk7ZkGaKmhB8WtnQQXnZUEFh0dB+z9SQRBYZ0HJD2hBSEBnQdW4ZkGT7GZBJhZmQeG5ZUEEgWdBXvJlQfUJZkHh7WdBJWpmQb96Z0EvkGdBO6NnQZAGZkHOVWdBJvxnQbB/aEH7EmlBc95fQRWIaEG0FWhBROMIQSlXZ0FL8GdB1TlmQT0jaEFuJmVBZmNnQd/TZ0FHfmdBOsxOQSGrV0E5GWlBp2toQRDMZ0FhqlpB0ddPQY+bWEHCBx1Bin5XQWJJa0E9eGtBTEVmQWlFZ0FdNmBBEMZlQVMdaUGrCz9BLFlQQTbpZUFRnWdB1MFWQUm5TEFIiGxB+CYQQc1nZ0FchWdB6wtoQVT3aEHUF2tB/cxUQa++P0EH0E9B9EItQQXa8kA=",
          "dtype": "f4"
         },
         "xaxis": "x",
         "y": {
          "bdata": "Z4kDQEW3B0BpZBZAZbMbQFMX3D83LPI/T8aeP2UgqD81lNE/A7j9P1of+z/YOytB79ezQHCpvj9VeN8/eL3mP5XB8z/lThNAf5wXQLiO9D88Na0/vzCgPxXbC0CxNvI/m5T9P/In+D+aAAJACp/rP7wDyj+QPp0/RKq0P26WC0CplARAhFf+QLjr9j9EPs0/ePEfQfXIBUCR9QpAIyCiP+wJtz9m+LA/E7yhP8IInT9bx9o/Vo/TQG8AlUA9apw/ZSa6Pytbnz9mxrlAh00qQT9ljkANsRpBGSmlQMQPrT9ZfLA/BO2kPw31pT8F8xFBZWTIPwvv9z+BJSpBVYL7QOvupz+oWLU/R0+XQGbg8UDxIrE/U27qQFeOpz8jcMM/iogEQCMJDEC8zME/NBH3QGeU8EAQmrBAXBDLQBTFI0E=",
          "dtype": "f4"
         },
         "yaxis": "y"
        },
        {
         "customdata": [
          [
           "Cfa"
          ],
          [
           "Cfa"
          ],
          [
           "Cfa"
          ],
          [
           "Cfa"
          ],
          [
           "Cfa"
          ],
          [
           "Cfa"
          ],
          [
           "Cfa"
          ],
          [
           "Cfa"
          ],
          [
           "Cfa"
          ],
          [
           "Cfa"
          ],
          [
           "Cfa"
          ],
          [
           "Cfa"
          ],
          [
           "Cfa"
          ],
          [
           "Cfa"
          ],
          [
           "Cfa"
          ],
          [
           "Cfa"
          ],
          [
           "Cfa"
          ],
          [
           "Cfa"
          ],
          [
           "Cfa"
          ],
          [
           "Cfa"
          ],
          [
           "Cfa"
          ],
          [
           "Cfa"
          ],
          [
           "Cfa"
          ],
          [
           "Cfa"
          ],
          [
           "Cfa"
          ],
          [
           "Cfa"
          ],
          [
           "Cfa"
          ],
          [
           "Cfa"
          ],
          [
           "Cfa"
          ],
          [
           "Cfa"
          ],
          [
           "Cfa"
          ],
          [
           "Cfa"
          ],
          [
           "Cfa"
          ],
          [
           "Cfa"
          ],
          [
           "Cfa"
          ],
          [
           "Cfa"
          ],
          [
           "Cfa"
          ],
          [
           "Cfa"
          ],
          [
           "Cfa"
          ],
          [
           "Cfa"
          ],
          [
           "Cfa"
          ],
          [
           "Cfa"
          ],
          [
           "Cfa"
          ],
          [
           "Cfa"
          ],
          [
           "Cfa"
          ],
          [
           "Cfa"
          ],
          [
           "Cfa"
          ],
          [
           "Cfa"
          ],
          [
           "Cfa"
          ],
          [
           "Cfa"
          ],
          [
           "Cfa"
          ],
          [
           "Cfa"
          ],
          [
           "Cfa"
          ],
          [
           "Cfa"
          ],
          [
           "Cfa"
          ],
          [
           "Cfa"
          ],
          [
           "Cfa"
          ],
          [
           "Cfa"
          ],
          [
           "Cfa"
          ],
          [
           "Cfa"
          ],
          [
           "Cfa"
          ],
          [
           "Cfa"
          ],
          [
           "Cfa"
          ],
          [
           "Cfa"
          ],
          [
           "Cfa"
          ],
          [
           "Cfa"
          ],
          [
           "Cfa"
          ],
          [
           "Cfa"
          ],
          [
           "Cfa"
          ],
          [
           "Cfa"
          ],
          [
           "Cfa"
          ],
          [
           "Cfa"
          ],
          [
           "Cfa"
          ],
          [
           "Cfa"
          ],
          [
           "Cfa"
          ],
          [
           "Cfa"
          ],
          [
           "Cfa"
          ],
          [
           "Cfa"
          ],
          [
           "Cfa"
          ],
          [
           "Cfa"
          ],
          [
           "Cfa"
          ],
          [
           "Cfa"
          ],
          [
           "Cfa"
          ],
          [
           "Cfa"
          ],
          [
           "Cfa"
          ],
          [
           "Cfa"
          ],
          [
           "Cfa"
          ],
          [
           "Cfa"
          ],
          [
           "Cfa"
          ],
          [
           "Cfa"
          ],
          [
           "Cfa"
          ],
          [
           "Cfa"
          ],
          [
           "Cfa"
          ],
          [
           "Cfa"
          ],
          [
           "Cfa"
          ],
          [
           "Cfa"
          ],
          [
           "Cfa"
          ],
          [
           "Cfa"
          ],
          [
           "Cfa"
          ],
          [
           "Cfa"
          ],
          [
           "Cfa"
          ]
         ],
         "hovertemplate": "<b>%{hovertext}</b><br><br>color=Cfa<br>x=%{x}<br>y=%{y}<br>hover_data_0=%{customdata[0]}<extra></extra>",
         "hovertext": [
          "544",
          "546",
          "628",
          "630",
          "680",
          "681",
          "685",
          "687",
          "728",
          "742",
          "801",
          "6739",
          "6740",
          "6744",
          "6909",
          "7025",
          "7207",
          "7373",
          "8246",
          "8337",
          "8357",
          "9100",
          "9102",
          "9103",
          "9104",
          "9105",
          "9106",
          "9111",
          "9113",
          "9114",
          "9115",
          "9519",
          "9521",
          "9526",
          "9588",
          "9644",
          "9645",
          "9664",
          "9665",
          "9666",
          "9667",
          "9668",
          "9669",
          "9670",
          "9671",
          "9672",
          "9673",
          "9676",
          "9677",
          "9678",
          "9679",
          "9680",
          "9681",
          "9682",
          "9683",
          "9684",
          "9685",
          "9686",
          "9687",
          "9689",
          "9690",
          "9691",
          "9692",
          "9693",
          "9694",
          "9695",
          "9696",
          "9698",
          "9700",
          "9703",
          "9704",
          "9709",
          "9710",
          "9711",
          "9712",
          "9713",
          "9714",
          "9719",
          "9720",
          "9737",
          "9739",
          "9747",
          "9748",
          "9754",
          "9755",
          "9756",
          "9757",
          "9821",
          "9844",
          "9864",
          "9895",
          "9973",
          "9974",
          "9975",
          "9976",
          "9987",
          "9990",
          "10005",
          "10006",
          "10017",
          "10018"
         ],
         "legendgroup": "Cfa",
         "marker": {
          "color": "#AB63FA",
          "symbol": "circle"
         },
         "mode": "markers",
         "name": "Cfa",
         "showlegend": true,
         "type": "scattergl",
         "x": {
          "bdata": "WyNnQbemZ0G642JBavU3QQVfZ0EBzmdBGOJmQWP0aEGyZWZBetRmQddXXEELi2ZBlcBmQT4FI0H6XGBBUUw/QaDGQ0G/V01B7ydrQa31WEGi9UVB5y9XQbXSV0HW5ltBP6NUQdqZWEHpMEZBrT1dQUOQGUHDiVtBWgFZQWjxS0EVNEtBd5RUQSHfZkHQ+VBB7G5PQfxfRUE9iEhBUDhFQc5VQ0HSEUZBkyRGQc3WR0Ek8lRBk2BHQbL5VEF4JDxB+5M9QQvqPUG/j0dBWvVGQZ7yRkH3mUdBLK1HQZDyVEEZ8lRBtF9UQZMhU0HnE0hBD8tHQXo1PEF1B0hBf8ZHQUV8UEHZLU9BhPhQQdruWUFME19B0g5WQbshKkEiAmFBNEJUQfwhU0HYMV1BbepHQWZ+U0E1Cz9BGdpaQfR/J0EA405BewZXQYLmT0EzYFlBSmVKQTomVEE5KVBBv0xYQazhPUGzFiZBAkJYQZd1+0B3BulAQZoiQUd76UC0L/hAqbjrQM8460BKswNBtLf4QPYmMkE=",
          "dtype": "f4"
         },
         "xaxis": "x",
         "y": {
          "bdata": "E92lP/4epz+BlhBBwIMYQdTHoT+NA8w/MASdP9sX4z/h/Q9AHYoUQMRer0CA9dY/BgbHPyKT+EAwTglB4w8RQXVB8kCHr65Af4fUP21S7UC/DaFAMjivQAS5qUARg/JA04KuQMO5rkBvqBRB7ij5QB+jFkFLqBBB/i0RQUbXJEHUM7VARRojQZe7JEEl58RAUsa/QLmI10C5PR1BY9kbQWyNGkHktxxB3VkcQaLHG0HEEx1BwdrjQFc5HUHWDLVAiJiyQDVxs0C7jdpAcw7bQIBQ20DH3tpAhNfZQIQoGkHuvRlBTBMcQQsHGUHRQtlAWK/aQFG780CxGtpAYPnZQHsSLEGPQCxBGoUtQW0lKUEJ/g1B6sqsQFLm90DiVQ5B0dP3QLFGJ0H6AA9BIFAoQe1gskChfihByPIlQd/vzUBdVSlBCiatQCnyyUBH9a1A1uqnQICG90DsTvdAKU0nQa5pz0CFNPdAC7spQe2sFEG56yNBg3sSQVNQI0HqniFBGvIjQcjiI0Fylx1BWdIhQTi4E0E=",
          "dtype": "f4"
         },
         "yaxis": "y"
        },
        {
         "customdata": [
          [
           "BSk"
          ],
          [
           "BSk"
          ],
          [
           "BSk"
          ],
          [
           "BSk"
          ],
          [
           "BSk"
          ],
          [
           "BSk"
          ],
          [
           "BSk"
          ],
          [
           "BSk"
          ],
          [
           "BSk"
          ],
          [
           "BSk"
          ],
          [
           "BSk"
          ],
          [
           "BSk"
          ],
          [
           "BSk"
          ],
          [
           "BSk"
          ],
          [
           "BSk"
          ],
          [
           "BSk"
          ],
          [
           "BSk"
          ],
          [
           "BSk"
          ],
          [
           "BSk"
          ],
          [
           "BSk"
          ],
          [
           "BSk"
          ],
          [
           "BSk"
          ],
          [
           "BSk"
          ],
          [
           "BSk"
          ],
          [
           "BSk"
          ],
          [
           "BSk"
          ],
          [
           "BSk"
          ],
          [
           "BSk"
          ],
          [
           "BSk"
          ],
          [
           "BSk"
          ],
          [
           "BSk"
          ],
          [
           "BSk"
          ],
          [
           "BSk"
          ],
          [
           "BSk"
          ],
          [
           "BSk"
          ],
          [
           "BSk"
          ],
          [
           "BSk"
          ],
          [
           "BSk"
          ],
          [
           "BSk"
          ],
          [
           "BSk"
          ],
          [
           "BSk"
          ],
          [
           "BSk"
          ],
          [
           "BSk"
          ],
          [
           "BSk"
          ],
          [
           "BSk"
          ],
          [
           "BSk"
          ],
          [
           "BSk"
          ],
          [
           "BSk"
          ],
          [
           "BSk"
          ],
          [
           "BSk"
          ],
          [
           "BSk"
          ],
          [
           "BSk"
          ],
          [
           "BSk"
          ],
          [
           "BSk"
          ],
          [
           "BSk"
          ],
          [
           "BSk"
          ],
          [
           "BSk"
          ],
          [
           "BSk"
          ],
          [
           "BSk"
          ],
          [
           "BSk"
          ],
          [
           "BSk"
          ],
          [
           "BSk"
          ],
          [
           "BSk"
          ],
          [
           "BSk"
          ],
          [
           "BSk"
          ],
          [
           "BSk"
          ],
          [
           "BSk"
          ],
          [
           "BSk"
          ],
          [
           "BSk"
          ],
          [
           "BSk"
          ],
          [
           "BSk"
          ],
          [
           "BSk"
          ],
          [
           "BSk"
          ],
          [
           "BSk"
          ],
          [
           "BSk"
          ],
          [
           "BSk"
          ],
          [
           "BSk"
          ],
          [
           "BSk"
          ],
          [
           "BSk"
          ],
          [
           "BSk"
          ],
          [
           "BSk"
          ],
          [
           "BSk"
          ],
          [
           "BSk"
          ],
          [
           "BSk"
          ],
          [
           "BSk"
          ],
          [
           "BSk"
          ],
          [
           "BSk"
          ],
          [
           "BSk"
          ],
          [
           "BSk"
          ],
          [
           "BSk"
          ],
          [
           "BSk"
          ],
          [
           "BSk"
          ]
         ],
         "hovertemplate": "<b>%{hovertext}</b><br><br>color=BSk<br>x=%{x}<br>y=%{y}<br>hover_data_0=%{customdata[0]}<extra></extra>",
         "hovertext": [
          "6830",
          "6929",
          "6931",
          "6961",
          "6970",
          "6971",
          "9128",
          "9130",
          "9131",
          "9133",
          "9134",
          "9513",
          "9514",
          "9520",
          "9523",
          "9528",
          "9531",
          "9532",
          "9533",
          "9534",
          "9536",
          "9552",
          "9553",
          "9554",
          "9555",
          "9556",
          "9558",
          "9561",
          "9574",
          "9579",
          "9582",
          "9587",
          "9589",
          "9592",
          "9595",
          "9602",
          "9606",
          "9608",
          "9609",
          "9617",
          "9619",
          "9620",
          "9621",
          "9624",
          "9631",
          "9632",
          "9633",
          "9635",
          "9636",
          "9637",
          "9638",
          "9640",
          "9641",
          "9642",
          "9643",
          "9647",
          "9699",
          "9705",
          "9758",
          "9820",
          "9822",
          "9825",
          "9831",
          "9832",
          "9833",
          "9834",
          "9836",
          "9838",
          "9839",
          "9840",
          "9843",
          "9845",
          "9852",
          "9855",
          "9856",
          "9857",
          "9859",
          "9861",
          "9862",
          "9870",
          "9878",
          "9879",
          "9882",
          "9888",
          "9897",
          "9902",
          "9904",
          "9906",
          "9939",
          "9942",
          "9991",
          "10011"
         ],
         "legendgroup": "BSk",
         "marker": {
          "color": "#FFA15A",
          "symbol": "circle"
         },
         "mode": "markers",
         "name": "BSk",
         "showlegend": true,
         "type": "scattergl",
         "x": {
          "bdata": "RtBaQdVDM0HCyCdBh6Y5QagrEkEJ609BlgArQWm7KkGICCxBCxoqQUowKkGGmk1B0sxTQcAeUkH17VJB0qxAQYwbSUH41VFBPD1AQbvpTkFgelFBud9SQaQSTEFgdEtBLp9LQTqrW0E0Bj1B92BZQd4lTkH5VlNBVhxRQSDQXEG5alBBOhBPQWIUQ0Hoh15BHGlAQZSYJkEk6yVBN9wnQXHfJUG1LCVBosYlQTDQJkEJsyhBDp4kQWMXJEH8qSdBBfgmQaKuJEEYiiVBbgMlQY6cJkHeFyZBVFIlQf5MTkG6zVZB/FpXQf8NJ0Fne0pBAUtCQXTlRkE5s0JBIxc/QVizTkHmj0tBVTlFQRO6QEEYAExBlQ5OQXHZU0HnE01BLshBQTMfSUGQNApBcwAHQcDGBkEw+QZB0kftQALTQEEBXExBpn9LQQ1iS0FlBEhBmLpOQc9fSkHvfVpB00dMQSdXCUFMWQlBQYMQQeTrIUE=",
          "dtype": "f4"
         },
         "xaxis": "x",
         "y": {
          "bdata": "CLG7QMNVE0Fhaf5AYJYbQerUEkG1i7ZAHR2/QIikykDtDb1ApwjAQFOKv0Bqu8FACV+2QDPX30B4dsBAv/rGQJeAFkFEtSRBuZHfQDbJF0GvnB1BfD/AQF6ZI0G6JAxB6l0MQVrjEkHeBcZATMH1QNeuEUGGw/xAJwbzQKHoEEG+OuRARpwkQcGwxEB5/hJBXUzIQJoyzEAgJ8ZADtXUQKi4xEBVTsFA+CDAQB5Bx0CxoMRA7tjEQEoI50B74MZAKWLAQNI7xUDzJMpADgfDQB3nwECKQtJA6sPBQCy7KkF1pbFA5+/3QKE74UBCsBhBs/ThQD0mJEHVE+hAQmHpQEF8xkDHX8NAGZsnQVmoxUD4xrxAdB3CQAeSvkCQgu5A+4zGQO0+wECkOB9BXY0fQejhH0HxMSBBWxEjQZcdyEC5WyRBxfoLQfHCxkAY2CJB3isQQftJz0CG5g5BaqXwQCyrFEGyGhRBhWQPQVbvAUE=",
          "dtype": "f4"
         },
         "yaxis": "y"
        },
        {
         "customdata": [
          [
           "Cs"
          ],
          [
           "Cs"
          ],
          [
           "Cs"
          ],
          [
           "Cs"
          ],
          [
           "Cs"
          ],
          [
           "Cs"
          ],
          [
           "Cs"
          ],
          [
           "Cs"
          ],
          [
           "Cs"
          ],
          [
           "Cs"
          ],
          [
           "Cs"
          ],
          [
           "Cs"
          ],
          [
           "Cs"
          ],
          [
           "Cs"
          ],
          [
           "Cs"
          ],
          [
           "Cs"
          ],
          [
           "Cs"
          ],
          [
           "Cs"
          ],
          [
           "Cs"
          ],
          [
           "Cs"
          ],
          [
           "Cs"
          ],
          [
           "Cs"
          ],
          [
           "Cs"
          ],
          [
           "Cs"
          ],
          [
           "Cs"
          ],
          [
           "Cs"
          ],
          [
           "Cs"
          ],
          [
           "Cs"
          ],
          [
           "Cs"
          ],
          [
           "Cs"
          ],
          [
           "Cs"
          ],
          [
           "Cs"
          ],
          [
           "Cs"
          ],
          [
           "Cs"
          ],
          [
           "Cs"
          ],
          [
           "Cs"
          ],
          [
           "Cs"
          ],
          [
           "Cs"
          ],
          [
           "Cs"
          ],
          [
           "Cs"
          ],
          [
           "Cs"
          ],
          [
           "Cs"
          ],
          [
           "Cs"
          ],
          [
           "Cs"
          ],
          [
           "Cs"
          ],
          [
           "Cs"
          ],
          [
           "Cs"
          ],
          [
           "Cs"
          ],
          [
           "Cs"
          ],
          [
           "Cs"
          ],
          [
           "Cs"
          ],
          [
           "Cs"
          ],
          [
           "Cs"
          ],
          [
           "Cs"
          ],
          [
           "Cs"
          ],
          [
           "Cs"
          ],
          [
           "Cs"
          ],
          [
           "Cs"
          ],
          [
           "Cs"
          ],
          [
           "Cs"
          ],
          [
           "Cs"
          ],
          [
           "Cs"
          ],
          [
           "Cs"
          ],
          [
           "Cs"
          ],
          [
           "Cs"
          ],
          [
           "Cs"
          ],
          [
           "Cs"
          ],
          [
           "Cs"
          ],
          [
           "Cs"
          ],
          [
           "Cs"
          ],
          [
           "Cs"
          ],
          [
           "Cs"
          ],
          [
           "Cs"
          ],
          [
           "Cs"
          ],
          [
           "Cs"
          ],
          [
           "Cs"
          ],
          [
           "Cs"
          ],
          [
           "Cs"
          ],
          [
           "Cs"
          ],
          [
           "Cs"
          ],
          [
           "Cs"
          ],
          [
           "Cs"
          ],
          [
           "Cs"
          ],
          [
           "Cs"
          ],
          [
           "Cs"
          ],
          [
           "Cs"
          ],
          [
           "Cs"
          ],
          [
           "Cs"
          ],
          [
           "Cs"
          ],
          [
           "Cs"
          ],
          [
           "Cs"
          ],
          [
           "Cs"
          ],
          [
           "Cs"
          ],
          [
           "Cs"
          ],
          [
           "Cs"
          ],
          [
           "Cs"
          ],
          [
           "Cs"
          ],
          [
           "Cs"
          ],
          [
           "Cs"
          ],
          [
           "Cs"
          ],
          [
           "Cs"
          ],
          [
           "Cs"
          ],
          [
           "Cs"
          ],
          [
           "Cs"
          ],
          [
           "Cs"
          ],
          [
           "Cs"
          ],
          [
           "Cs"
          ],
          [
           "Cs"
          ],
          [
           "Cs"
          ],
          [
           "Cs"
          ],
          [
           "Cs"
          ],
          [
           "Cs"
          ],
          [
           "Cs"
          ],
          [
           "Cs"
          ],
          [
           "Cs"
          ],
          [
           "Cs"
          ],
          [
           "Cs"
          ],
          [
           "Cs"
          ],
          [
           "Cs"
          ],
          [
           "Cs"
          ],
          [
           "Cs"
          ],
          [
           "Cs"
          ],
          [
           "Cs"
          ],
          [
           "Cs"
          ],
          [
           "Cs"
          ],
          [
           "Cs"
          ],
          [
           "Cs"
          ],
          [
           "Cs"
          ],
          [
           "Cs"
          ],
          [
           "Cs"
          ],
          [
           "Cs"
          ],
          [
           "Cs"
          ],
          [
           "Cs"
          ],
          [
           "Cs"
          ],
          [
           "Cs"
          ],
          [
           "Cs"
          ],
          [
           "Cs"
          ],
          [
           "Cs"
          ],
          [
           "Cs"
          ],
          [
           "Cs"
          ],
          [
           "Cs"
          ],
          [
           "Cs"
          ],
          [
           "Cs"
          ],
          [
           "Cs"
          ],
          [
           "Cs"
          ],
          [
           "Cs"
          ],
          [
           "Cs"
          ],
          [
           "Cs"
          ]
         ],
         "hovertemplate": "<b>%{hovertext}</b><br><br>color=Cs<br>x=%{x}<br>y=%{y}<br>hover_data_0=%{customdata[0]}<extra></extra>",
         "hovertext": [
          "6933",
          "6963",
          "7033",
          "7067",
          "7068",
          "7077",
          "7081",
          "7319",
          "7327",
          "7328",
          "7332",
          "7350",
          "7416",
          "8243",
          "8264",
          "9067",
          "9069",
          "9070",
          "9075",
          "9078",
          "9079",
          "9081",
          "9084",
          "9085",
          "9089",
          "9091",
          "9095",
          "9099",
          "9506",
          "9507",
          "9508",
          "9509",
          "9510",
          "9511",
          "9512",
          "9515",
          "9517",
          "9518",
          "9522",
          "9527",
          "9529",
          "9530",
          "9535",
          "9537",
          "9539",
          "9541",
          "9543",
          "9544",
          "9545",
          "9548",
          "9549",
          "9551",
          "9559",
          "9560",
          "9569",
          "9573",
          "9576",
          "9578",
          "9581",
          "9584",
          "9586",
          "9590",
          "9591",
          "9593",
          "9596",
          "9598",
          "9599",
          "9600",
          "9646",
          "9648",
          "9649",
          "9651",
          "9653",
          "9655",
          "9656",
          "9657",
          "9658",
          "9659",
          "9660",
          "9661",
          "9663",
          "9708",
          "9717",
          "9725",
          "9726",
          "9727",
          "9759",
          "9761",
          "9762",
          "9764",
          "9817",
          "9826",
          "9828",
          "9830",
          "9835",
          "9837",
          "9841",
          "9848",
          "9849",
          "9851",
          "9853",
          "9858",
          "9866",
          "9867",
          "9869",
          "9871",
          "9873",
          "9876",
          "9877",
          "9880",
          "9881",
          "9885",
          "9887",
          "9891",
          "9892",
          "9898",
          "9900",
          "9901",
          "9905",
          "9927",
          "9928",
          "9929",
          "9930",
          "9932",
          "9933",
          "9941",
          "9943",
          "9944",
          "9945",
          "9946",
          "9947",
          "9948",
          "9949",
          "9962",
          "9963",
          "9964",
          "9965",
          "9966",
          "9968",
          "9969",
          "9980",
          "9981",
          "9982",
          "9983",
          "9984",
          "10012",
          "10013",
          "10014"
         ],
         "legendgroup": "Cs",
         "marker": {
          "color": "#19D3F3",
          "symbol": "circle"
         },
         "mode": "markers",
         "name": "Cs",
         "showlegend": true,
         "type": "scattergl",
         "x": {
          "bdata": "RrdJQVTsJUFAtFdBYE1VQZ8XHUH2fjtB40sQQRe3FkFGjldBJ79WQUdQK0HRYkJBAgVYQfmbVkGGpE1BSB5UQWi2R0EhS0hBeAhIQS1pR0F9mkVBbrxNQUaMSUEtukhBYhJXQecOSEET0lVB5oRFQaCiPkEdNGFBv5VUQRysSUGGK1BB7cFXQeyoWEHjD1FBcNNAQU0MWEFzflhBrURXQencVEEBS0tByIxIQVKbWkHZEUFB09NSQZrrSkHwOFpBQ0xAQe3jWUECREBBuqpRQf6gUEHB+VFBaWJoQc0nVEHwP1BBHd5GQVfhZUEJzUFBsT5FQZJaWUFSH1hBCtNcQeEVQUFHdEpBu7tAQXx+S0GAv09BoOT2QOC5QkHnV09BAfFBQUY4QUEHDENBB/1KQX8NRUFhSE9B2KJLQTnNQUHDOU9BydJVQcBoaEFBmUNB7UlUQcqbRkELSTBBD6FBQfESG0E/bVBBlGZBQaD6RUF/tEJBIrJFQdzPUEFMWktBUYBWQdQKUUHD6UJBXCxPQVM1SkEd7QhBQ2E8QYkiQUGbqzpBDDlMQcEfY0E4lUdBDKpLQRciRUHLpENB/5dEQSnbTEFtlFhBXHhCQUwAWUHXolVBR+RTQYLuGkFqFDxBOq1CQX3wWUGz6i1BbpkpQePuTEH2C+pApcE0QegYA0HMqOhAflf1QKng/kBYOyFBCx78QNtX6kD84P5ACaIXQZiPM0HMH/dARDTuQE1s6UCGHPVAlpr/QOv1EEH2M/hABN/sQMtf+0Ay+ehAM80YQQ==",
          "dtype": "f4"
         },
         "xaxis": "x",
         "y": {
          "bdata": "p0KlQI6oyUDz341Ai8clQYjrF0Et5PlAKzrqQF76EEHTCiZB1rPFQJIf80C8BCFB4i6lQJAqBkHlhyxBdXq4QOX2o0BVfahACEuoQML0okAzPK5ArNwoQWkjqUB79KpAz37tQIfnKkHJjq5AA7UqQQhNskAYQQlBiOocQTUD60AEI7hAeFi2QFw4JUEGublA9vchQUUwFUFXofhAMOH2QPH99EDD9AtBtferQN1E6UDUqxZBhQu8QCleDUELMPZAfHbgQEtzH0F3X99Ap1n1QGo3ykBLJbJAsjclQY7NsECRJbVASEIjQfV7KEHtSLRAo2nuQCByEkF6ORRBE7fAQOwY4kAsiwxBZn6vQBnWDEHTlbxAoIMiQcBcoUBmT8hACIKkQCsVpkDCrqRAffD2QIVuGEFI0ipBZMejQKSYoUAY0CtBWYMmQe2TJkF3IilBQ0L0QEfs20BxofpAj/cPQV80GUEpsQlBm7jCQOfgDUHtQ8FAqIzoQLd680CUtBBBLe7BQMNNtUACxbBACWTHQIZmK0HPtB9B6O30QK/d9EAyV+ZAr/EOQSJnKEHW+sBAkNUGQQN300D+Wr5Apl0XQd/yDEF9wSNBs7HGQNsSJUE1PrtAlii3QDqPGkHItCRBOUMqQXc+8UAMY+dAo6H0QPo9sEBvNSRBvggBQWNyFEGhFyRBbUsiQddKIEEPqA1BNWQUQYAfJEFG8h9BLH7yQDQmE0Hq7iFB3tAjQZIdJEGPRyJB7ekfQfuGEEEiGyJBA78jQcrcE0H+9yNBIGfyQA==",
          "dtype": "f4"
         },
         "yaxis": "y"
        }
       ],
       "layout": {
        "legend": {
         "title": {
          "text": "color"
         },
         "tracegroupgap": 0
        },
        "template": {
         "data": {
          "bar": [
           {
            "error_x": {
             "color": "#2a3f5f"
            },
            "error_y": {
             "color": "#2a3f5f"
            },
            "marker": {
             "line": {
              "color": "#E5ECF6",
              "width": 0.5
             },
             "pattern": {
              "fillmode": "overlay",
              "size": 10,
              "solidity": 0.2
             }
            },
            "type": "bar"
           }
          ],
          "barpolar": [
           {
            "marker": {
             "line": {
              "color": "#E5ECF6",
              "width": 0.5
             },
             "pattern": {
              "fillmode": "overlay",
              "size": 10,
              "solidity": 0.2
             }
            },
            "type": "barpolar"
           }
          ],
          "carpet": [
           {
            "aaxis": {
             "endlinecolor": "#2a3f5f",
             "gridcolor": "white",
             "linecolor": "white",
             "minorgridcolor": "white",
             "startlinecolor": "#2a3f5f"
            },
            "baxis": {
             "endlinecolor": "#2a3f5f",
             "gridcolor": "white",
             "linecolor": "white",
             "minorgridcolor": "white",
             "startlinecolor": "#2a3f5f"
            },
            "type": "carpet"
           }
          ],
          "choropleth": [
           {
            "colorbar": {
             "outlinewidth": 0,
             "ticks": ""
            },
            "type": "choropleth"
           }
          ],
          "contour": [
           {
            "colorbar": {
             "outlinewidth": 0,
             "ticks": ""
            },
            "colorscale": [
             [
              0,
              "#0d0887"
             ],
             [
              0.1111111111111111,
              "#46039f"
             ],
             [
              0.2222222222222222,
              "#7201a8"
             ],
             [
              0.3333333333333333,
              "#9c179e"
             ],
             [
              0.4444444444444444,
              "#bd3786"
             ],
             [
              0.5555555555555556,
              "#d8576b"
             ],
             [
              0.6666666666666666,
              "#ed7953"
             ],
             [
              0.7777777777777778,
              "#fb9f3a"
             ],
             [
              0.8888888888888888,
              "#fdca26"
             ],
             [
              1,
              "#f0f921"
             ]
            ],
            "type": "contour"
           }
          ],
          "contourcarpet": [
           {
            "colorbar": {
             "outlinewidth": 0,
             "ticks": ""
            },
            "type": "contourcarpet"
           }
          ],
          "heatmap": [
           {
            "colorbar": {
             "outlinewidth": 0,
             "ticks": ""
            },
            "colorscale": [
             [
              0,
              "#0d0887"
             ],
             [
              0.1111111111111111,
              "#46039f"
             ],
             [
              0.2222222222222222,
              "#7201a8"
             ],
             [
              0.3333333333333333,
              "#9c179e"
             ],
             [
              0.4444444444444444,
              "#bd3786"
             ],
             [
              0.5555555555555556,
              "#d8576b"
             ],
             [
              0.6666666666666666,
              "#ed7953"
             ],
             [
              0.7777777777777778,
              "#fb9f3a"
             ],
             [
              0.8888888888888888,
              "#fdca26"
             ],
             [
              1,
              "#f0f921"
             ]
            ],
            "type": "heatmap"
           }
          ],
          "histogram": [
           {
            "marker": {
             "pattern": {
              "fillmode": "overlay",
              "size": 10,
              "solidity": 0.2
             }
            },
            "type": "histogram"
           }
          ],
          "histogram2d": [
           {
            "colorbar": {
             "outlinewidth": 0,
             "ticks": ""
            },
            "colorscale": [
             [
              0,
              "#0d0887"
             ],
             [
              0.1111111111111111,
              "#46039f"
             ],
             [
              0.2222222222222222,
              "#7201a8"
             ],
             [
              0.3333333333333333,
              "#9c179e"
             ],
             [
              0.4444444444444444,
              "#bd3786"
             ],
             [
              0.5555555555555556,
              "#d8576b"
             ],
             [
              0.6666666666666666,
              "#ed7953"
             ],
             [
              0.7777777777777778,
              "#fb9f3a"
             ],
             [
              0.8888888888888888,
              "#fdca26"
             ],
             [
              1,
              "#f0f921"
             ]
            ],
            "type": "histogram2d"
           }
          ],
          "histogram2dcontour": [
           {
            "colorbar": {
             "outlinewidth": 0,
             "ticks": ""
            },
            "colorscale": [
             [
              0,
              "#0d0887"
             ],
             [
              0.1111111111111111,
              "#46039f"
             ],
             [
              0.2222222222222222,
              "#7201a8"
             ],
             [
              0.3333333333333333,
              "#9c179e"
             ],
             [
              0.4444444444444444,
              "#bd3786"
             ],
             [
              0.5555555555555556,
              "#d8576b"
             ],
             [
              0.6666666666666666,
              "#ed7953"
             ],
             [
              0.7777777777777778,
              "#fb9f3a"
             ],
             [
              0.8888888888888888,
              "#fdca26"
             ],
             [
              1,
              "#f0f921"
             ]
            ],
            "type": "histogram2dcontour"
           }
          ],
          "mesh3d": [
           {
            "colorbar": {
             "outlinewidth": 0,
             "ticks": ""
            },
            "type": "mesh3d"
           }
          ],
          "parcoords": [
           {
            "line": {
             "colorbar": {
              "outlinewidth": 0,
              "ticks": ""
             }
            },
            "type": "parcoords"
           }
          ],
          "pie": [
           {
            "automargin": true,
            "type": "pie"
           }
          ],
          "scatter": [
           {
            "fillpattern": {
             "fillmode": "overlay",
             "size": 10,
             "solidity": 0.2
            },
            "type": "scatter"
           }
          ],
          "scatter3d": [
           {
            "line": {
             "colorbar": {
              "outlinewidth": 0,
              "ticks": ""
             }
            },
            "marker": {
             "colorbar": {
              "outlinewidth": 0,
              "ticks": ""
             }
            },
            "type": "scatter3d"
           }
          ],
          "scattercarpet": [
           {
            "marker": {
             "colorbar": {
              "outlinewidth": 0,
              "ticks": ""
             }
            },
            "type": "scattercarpet"
           }
          ],
          "scattergeo": [
           {
            "marker": {
             "colorbar": {
              "outlinewidth": 0,
              "ticks": ""
             }
            },
            "type": "scattergeo"
           }
          ],
          "scattergl": [
           {
            "marker": {
             "colorbar": {
              "outlinewidth": 0,
              "ticks": ""
             }
            },
            "type": "scattergl"
           }
          ],
          "scattermap": [
           {
            "marker": {
             "colorbar": {
              "outlinewidth": 0,
              "ticks": ""
             }
            },
            "type": "scattermap"
           }
          ],
          "scattermapbox": [
           {
            "marker": {
             "colorbar": {
              "outlinewidth": 0,
              "ticks": ""
             }
            },
            "type": "scattermapbox"
           }
          ],
          "scatterpolar": [
           {
            "marker": {
             "colorbar": {
              "outlinewidth": 0,
              "ticks": ""
             }
            },
            "type": "scatterpolar"
           }
          ],
          "scatterpolargl": [
           {
            "marker": {
             "colorbar": {
              "outlinewidth": 0,
              "ticks": ""
             }
            },
            "type": "scatterpolargl"
           }
          ],
          "scatterternary": [
           {
            "marker": {
             "colorbar": {
              "outlinewidth": 0,
              "ticks": ""
             }
            },
            "type": "scatterternary"
           }
          ],
          "surface": [
           {
            "colorbar": {
             "outlinewidth": 0,
             "ticks": ""
            },
            "colorscale": [
             [
              0,
              "#0d0887"
             ],
             [
              0.1111111111111111,
              "#46039f"
             ],
             [
              0.2222222222222222,
              "#7201a8"
             ],
             [
              0.3333333333333333,
              "#9c179e"
             ],
             [
              0.4444444444444444,
              "#bd3786"
             ],
             [
              0.5555555555555556,
              "#d8576b"
             ],
             [
              0.6666666666666666,
              "#ed7953"
             ],
             [
              0.7777777777777778,
              "#fb9f3a"
             ],
             [
              0.8888888888888888,
              "#fdca26"
             ],
             [
              1,
              "#f0f921"
             ]
            ],
            "type": "surface"
           }
          ],
          "table": [
           {
            "cells": {
             "fill": {
              "color": "#EBF0F8"
             },
             "line": {
              "color": "white"
             }
            },
            "header": {
             "fill": {
              "color": "#C8D4E3"
             },
             "line": {
              "color": "white"
             }
            },
            "type": "table"
           }
          ]
         },
         "layout": {
          "annotationdefaults": {
           "arrowcolor": "#2a3f5f",
           "arrowhead": 0,
           "arrowwidth": 1
          },
          "autotypenumbers": "strict",
          "coloraxis": {
           "colorbar": {
            "outlinewidth": 0,
            "ticks": ""
           }
          },
          "colorscale": {
           "diverging": [
            [
             0,
             "#8e0152"
            ],
            [
             0.1,
             "#c51b7d"
            ],
            [
             0.2,
             "#de77ae"
            ],
            [
             0.3,
             "#f1b6da"
            ],
            [
             0.4,
             "#fde0ef"
            ],
            [
             0.5,
             "#f7f7f7"
            ],
            [
             0.6,
             "#e6f5d0"
            ],
            [
             0.7,
             "#b8e186"
            ],
            [
             0.8,
             "#7fbc41"
            ],
            [
             0.9,
             "#4d9221"
            ],
            [
             1,
             "#276419"
            ]
           ],
           "sequential": [
            [
             0,
             "#0d0887"
            ],
            [
             0.1111111111111111,
             "#46039f"
            ],
            [
             0.2222222222222222,
             "#7201a8"
            ],
            [
             0.3333333333333333,
             "#9c179e"
            ],
            [
             0.4444444444444444,
             "#bd3786"
            ],
            [
             0.5555555555555556,
             "#d8576b"
            ],
            [
             0.6666666666666666,
             "#ed7953"
            ],
            [
             0.7777777777777778,
             "#fb9f3a"
            ],
            [
             0.8888888888888888,
             "#fdca26"
            ],
            [
             1,
             "#f0f921"
            ]
           ],
           "sequentialminus": [
            [
             0,
             "#0d0887"
            ],
            [
             0.1111111111111111,
             "#46039f"
            ],
            [
             0.2222222222222222,
             "#7201a8"
            ],
            [
             0.3333333333333333,
             "#9c179e"
            ],
            [
             0.4444444444444444,
             "#bd3786"
            ],
            [
             0.5555555555555556,
             "#d8576b"
            ],
            [
             0.6666666666666666,
             "#ed7953"
            ],
            [
             0.7777777777777778,
             "#fb9f3a"
            ],
            [
             0.8888888888888888,
             "#fdca26"
            ],
            [
             1,
             "#f0f921"
            ]
           ]
          },
          "colorway": [
           "#636efa",
           "#EF553B",
           "#00cc96",
           "#ab63fa",
           "#FFA15A",
           "#19d3f3",
           "#FF6692",
           "#B6E880",
           "#FF97FF",
           "#FECB52"
          ],
          "font": {
           "color": "#2a3f5f"
          },
          "geo": {
           "bgcolor": "white",
           "lakecolor": "white",
           "landcolor": "#E5ECF6",
           "showlakes": true,
           "showland": true,
           "subunitcolor": "white"
          },
          "hoverlabel": {
           "align": "left"
          },
          "hovermode": "closest",
          "mapbox": {
           "style": "light"
          },
          "paper_bgcolor": "white",
          "plot_bgcolor": "#E5ECF6",
          "polar": {
           "angularaxis": {
            "gridcolor": "white",
            "linecolor": "white",
            "ticks": ""
           },
           "bgcolor": "#E5ECF6",
           "radialaxis": {
            "gridcolor": "white",
            "linecolor": "white",
            "ticks": ""
           }
          },
          "scene": {
           "xaxis": {
            "backgroundcolor": "#E5ECF6",
            "gridcolor": "white",
            "gridwidth": 2,
            "linecolor": "white",
            "showbackground": true,
            "ticks": "",
            "zerolinecolor": "white"
           },
           "yaxis": {
            "backgroundcolor": "#E5ECF6",
            "gridcolor": "white",
            "gridwidth": 2,
            "linecolor": "white",
            "showbackground": true,
            "ticks": "",
            "zerolinecolor": "white"
           },
           "zaxis": {
            "backgroundcolor": "#E5ECF6",
            "gridcolor": "white",
            "gridwidth": 2,
            "linecolor": "white",
            "showbackground": true,
            "ticks": "",
            "zerolinecolor": "white"
           }
          },
          "shapedefaults": {
           "line": {
            "color": "#2a3f5f"
           }
          },
          "ternary": {
           "aaxis": {
            "gridcolor": "white",
            "linecolor": "white",
            "ticks": ""
           },
           "baxis": {
            "gridcolor": "white",
            "linecolor": "white",
            "ticks": ""
           },
           "bgcolor": "#E5ECF6",
           "caxis": {
            "gridcolor": "white",
            "linecolor": "white",
            "ticks": ""
           }
          },
          "title": {
           "x": 0.05
          },
          "xaxis": {
           "automargin": true,
           "gridcolor": "white",
           "linecolor": "white",
           "ticks": "",
           "title": {
            "standoff": 15
           },
           "zerolinecolor": "white",
           "zerolinewidth": 2
          },
          "yaxis": {
           "automargin": true,
           "gridcolor": "white",
           "linecolor": "white",
           "ticks": "",
           "title": {
            "standoff": 15
           },
           "zerolinecolor": "white",
           "zerolinewidth": 2
          }
         }
        },
        "title": {
         "text": "UMAP Best (n_neighbors=30, min_dist=0.01, trust=0.947)"
        },
        "xaxis": {
         "anchor": "y",
         "domain": [
          0,
          1
         ],
         "title": {
          "text": "x"
         }
        },
        "yaxis": {
         "anchor": "x",
         "domain": [
          0,
          1
         ],
         "title": {
          "text": "y"
         }
        }
       }
      }
     },
     "metadata": {},
     "output_type": "display_data"
    },
    {
     "name": "stdout",
     "output_type": "stream",
     "text": [
      "Saved interactive UMAP plot to ./Results/visualize_tsne\\umap_best.html\n",
      "\n",
      "✅ UMAP analysis complete! Check ./Results/visualize_tsne for saved results.\n",
      "📋 Summary: UMAP often preserves local neighborhoods better than t-SNE\n",
      "    Higher trustworthiness usually indicates better structure preservation\n"
     ]
    }
   ],
   "source": [
    "# --- UMAP Embedding for Better Geographic Preservation ---\n",
    "# UMAP often preserves both local and global structure better than t-SNE\n",
    "\n",
    "try:\n",
    "    import umap\n",
    "    print(\"UMAP library found!\")\n",
    "except ImportError:\n",
    "    print(\"Installing UMAP...\")\n",
    "    # import subprocess\n",
    "    # import sys\n",
    "    # subprocess.check_call([sys.executable, \"-m\", \"pip\", \"install\", \"umap-learn\"])\n",
    "    # import umap\n",
    "    # print(\"UMAP installed and imported!\")\n",
    "\n",
    "# UMAP parameters to try (more conservative than t-SNE)\n",
    "UMAP_PARAMS = [\n",
    "    {'n_neighbors': 15, 'min_dist': 0.1, 'n_components': 2},\n",
    "    {'n_neighbors': 30, 'min_dist': 0.1, 'n_components': 2}, \n",
    "    {'n_neighbors': 50, 'min_dist': 0.1, 'n_components': 2},\n",
    "    {'n_neighbors': 15, 'min_dist': 0.01, 'n_components': 2},\n",
    "    {'n_neighbors': 30, 'min_dist': 0.01, 'n_components': 2}\n",
    "]\n",
    "\n",
    "# Also try higher dimensional UMAP embeddings\n",
    "UMAP_PARAMS_3D = [\n",
    "    {'n_neighbors': 15, 'min_dist': 0.1, 'n_components': 3},\n",
    "    {'n_neighbors': 30, 'min_dist': 0.1, 'n_components': 3},\n",
    "]\n",
    "\n",
    "print(f\"Running UMAP with {len(UMAP_PARAMS)} 2D parameter sets and {len(UMAP_PARAMS_3D)} 3D parameter sets...\")\n",
    "\n",
    "umap_results = []\n",
    "UMAP_INPUT = X_pca  # Use same input as t-SNE for fair comparison\n",
    "\n",
    "# Run 2D UMAP embeddings\n",
    "for i, params in enumerate(UMAP_PARAMS):\n",
    "    print(f\"UMAP 2D {i+1}/{len(UMAP_PARAMS)}: n_neighbors={params['n_neighbors']}, min_dist={params['min_dist']}\")\n",
    "    \n",
    "    t0 = time.time()\n",
    "    reducer = umap.UMAP(\n",
    "        n_neighbors=params['n_neighbors'],\n",
    "        min_dist=params['min_dist'], \n",
    "        n_components=params['n_components'],\n",
    "        random_state=RANDOM_STATE,\n",
    "        verbose=False\n",
    "    )\n",
    "    \n",
    "    Y_umap = reducer.fit_transform(UMAP_INPUT)\n",
    "    runtime = time.time() - t0\n",
    "    \n",
    "    # Calculate trustworthiness for comparison with t-SNE\n",
    "    tw = trustworthiness(UMAP_INPUT, Y_umap, n_neighbors=12)\n",
    "    \n",
    "    result = {\n",
    "        'method': 'UMAP',\n",
    "        'n_neighbors': params['n_neighbors'],\n",
    "        'min_dist': params['min_dist'],\n",
    "        'n_components': params['n_components'],\n",
    "        'runtime_sec': runtime,\n",
    "        'trustworthiness': tw,\n",
    "        'embedding': Y_umap\n",
    "    }\n",
    "    umap_results.append(result)\n",
    "    \n",
    "    # Save intermediate result\n",
    "    np.savez_compressed(\n",
    "        os.path.join(OUT_DIR, f'umap_n{params[\"n_neighbors\"]}_d{params[\"min_dist\"]}_2d.npz'), \n",
    "        Y=Y_umap\n",
    "    )\n",
    "    \n",
    "    print(f'  Done! Runtime: {runtime:.1f}s, Trustworthiness: {tw:.3f}')\n",
    "\n",
    "# Run 3D UMAP embeddings  \n",
    "for i, params in enumerate(UMAP_PARAMS_3D):\n",
    "    print(f\"UMAP 3D {i+1}/{len(UMAP_PARAMS_3D)}: n_neighbors={params['n_neighbors']}, min_dist={params['min_dist']}\")\n",
    "    \n",
    "    t0 = time.time()\n",
    "    reducer = umap.UMAP(\n",
    "        n_neighbors=params['n_neighbors'],\n",
    "        min_dist=params['min_dist'],\n",
    "        n_components=params['n_components'], \n",
    "        random_state=RANDOM_STATE,\n",
    "        verbose=False\n",
    "    )\n",
    "    \n",
    "    Y_umap_3d = reducer.fit_transform(UMAP_INPUT)\n",
    "    runtime = time.time() - t0\n",
    "    \n",
    "    # Calculate trustworthiness\n",
    "    tw = trustworthiness(UMAP_INPUT, Y_umap_3d, n_neighbors=12)\n",
    "    \n",
    "    result = {\n",
    "        'method': 'UMAP',\n",
    "        'n_neighbors': params['n_neighbors'],\n",
    "        'min_dist': params['min_dist'],\n",
    "        'n_components': params['n_components'],\n",
    "        'runtime_sec': runtime,\n",
    "        'trustworthiness': tw,\n",
    "        'embedding': Y_umap_3d\n",
    "    }\n",
    "    umap_results.append(result)\n",
    "    \n",
    "    # Save intermediate result\n",
    "    np.savez_compressed(\n",
    "        os.path.join(OUT_DIR, f'umap_n{params[\"n_neighbors\"]}_d{params[\"min_dist\"]}_3d.npz'), \n",
    "        Y=Y_umap_3d\n",
    "    )\n",
    "    \n",
    "    print(f'  Done! Runtime: {runtime:.1f}s, Trustworthiness: {tw:.3f}')\n",
    "\n",
    "# Create summary\n",
    "umap_summary_df = pd.DataFrame([\n",
    "    {k: v for k, v in r.items() if k != 'embedding'} for r in umap_results\n",
    "])\n",
    "print(\"\\n=== UMAP Results Summary ===\")\n",
    "print(umap_summary_df.round(3))\n",
    "\n",
    "# Save UMAP summary\n",
    "umap_summary_df.to_csv(os.path.join(OUT_DIR, 'umap_summary.csv'), index=False)\n",
    "\n",
    "# Find best UMAP result (highest trustworthiness)\n",
    "best_umap_2d = max([r for r in umap_results if r['n_components'] == 2], key=lambda x: x['trustworthiness'])\n",
    "best_umap_3d = max([r for r in umap_results if r['n_components'] == 3], key=lambda x: x['trustworthiness']) if any(r['n_components'] == 3 for r in umap_results) else None\n",
    "\n",
    "print(f\"\\n🏆 Best 2D UMAP: n_neighbors={best_umap_2d['n_neighbors']}, min_dist={best_umap_2d['min_dist']}, trustworthiness={best_umap_2d['trustworthiness']:.3f}\")\n",
    "if best_umap_3d:\n",
    "    print(f\"🏆 Best 3D UMAP: n_neighbors={best_umap_3d['n_neighbors']}, min_dist={best_umap_3d['min_dist']}, trustworthiness={best_umap_3d['trustworthiness']:.3f}\")\n",
    "\n",
    "# Compare with t-SNE results\n",
    "if len(results) > 0:\n",
    "    best_tsne = max(results, key=lambda r: r['trustworthiness'])\n",
    "    print(f\"\\n📊 Comparison:\")\n",
    "    print(f\"Best t-SNE trustworthiness:  {best_tsne['trustworthiness']:.3f}\")\n",
    "    print(f\"Best UMAP 2D trustworthiness: {best_umap_2d['trustworthiness']:.3f}\")\n",
    "    if best_umap_3d:\n",
    "        print(f\"Best UMAP 3D trustworthiness: {best_umap_3d['trustworthiness']:.3f}\")\n",
    "    \n",
    "    improvement_2d = best_umap_2d['trustworthiness'] - best_tsne['trustworthiness']\n",
    "    print(f\"UMAP 2D improvement: {improvement_2d:+.3f}\")\n",
    "    \n",
    "    if best_umap_3d:\n",
    "        improvement_3d = best_umap_3d['trustworthiness'] - best_tsne['trustworthiness']\n",
    "        print(f\"UMAP 3D improvement: {improvement_3d:+.3f}\")\n",
    "\n",
    "# Visualize best UMAP results\n",
    "print(f\"\\n📈 Creating UMAP visualizations...\")\n",
    "\n",
    "# Plot best 2D UMAP\n",
    "Y_umap_best = best_umap_2d['embedding']\n",
    "\n",
    "fig, axes = plt.subplots(1, 2, figsize=(16, 6))\n",
    "\n",
    "# UMAP colored by Koppen-Geiger\n",
    "if 'Koppen-Geiger-Name-Modified' in filtered_meta_df.columns:\n",
    "    labels = filtered_meta_df['Koppen-Geiger-Name-Modified'].astype(str).fillna('nan')\n",
    "    unique_classes = list(dict.fromkeys(labels.tolist()))\n",
    "    n_classes = max(1, len(unique_classes))\n",
    "    cmap = plt.cm.get_cmap('tab20', min(n_classes, 20))\n",
    "    class_to_color = {cls: cmap(i % cmap.N) for i, cls in enumerate(unique_classes)}\n",
    "    \n",
    "    for i, (x, y) in enumerate(Y_umap_best):\n",
    "        cls = labels.iloc[i]\n",
    "        col = class_to_color.get(cls, (0.5, 0.5, 0.5))\n",
    "        axes[0].scatter(x, y, color=col, s=20, edgecolors='none', alpha=0.7)\n",
    "    \n",
    "    # Compact legend\n",
    "    handles = [plt.Line2D([0], [0], marker='o', color='w', markerfacecolor=class_to_color[cls], markersize=6) for cls in unique_classes]\n",
    "    if len(handles) > 0:\n",
    "        axes[0].legend(handles, unique_classes, bbox_to_anchor=(1.05, 1), loc='upper left', fontsize=8)\n",
    "    \n",
    "    axes[0].set_title(f'UMAP 2D (Koppen-Geiger)\\\\nn_neighbors={best_umap_2d[\"n_neighbors\"]}, min_dist={best_umap_2d[\"min_dist\"]}')\n",
    "    axes[0].set_xlabel('UMAP 1')\n",
    "    axes[0].set_ylabel('UMAP 2')\n",
    "    axes[0].grid(True, alpha=0.3)\n",
    "\n",
    "# Compare with t-SNE side by side\n",
    "if len(results) > 0:\n",
    "    Y_tsne_best = best_tsne['embedding']\n",
    "    \n",
    "    for i, (x, y) in enumerate(Y_tsne_best):\n",
    "        cls = labels.iloc[i] if 'Koppen-Geiger-Name-Modified' in filtered_meta_df.columns else 'unknown'\n",
    "        col = class_to_color.get(cls, (0.5, 0.5, 0.5)) if 'Koppen-Geiger-Name-Modified' in filtered_meta_df.columns else (0.5, 0.5, 0.5)\n",
    "        axes[1].scatter(x, y, color=col, s=20, edgecolors='none', alpha=0.7)\n",
    "    \n",
    "    axes[1].set_title(f't-SNE 2D (for comparison)\\\\nperp={best_tsne[\"perplexity\"]}, lr={best_tsne[\"learning_rate\"]}')\n",
    "    axes[1].set_xlabel('t-SNE 1') \n",
    "    axes[1].set_ylabel('t-SNE 2')\n",
    "    axes[1].grid(True, alpha=0.3)\n",
    "\n",
    "plt.tight_layout()\n",
    "plt.savefig(os.path.join(OUT_DIR, 'umap_vs_tsne_comparison.png'), dpi=200, bbox_inches='tight')\n",
    "plt.show()\n",
    "\n",
    "# Create interactive UMAP plot\n",
    "hover_text = [f\"Key: {k}<br>KG: {filtered_meta_df['Koppen-Geiger-Name-Modified'].iloc[i]}\" \n",
    "              for i, k in enumerate(filtered_embed_keys)]\n",
    "\n",
    "fig_umap = px.scatter(x=Y_umap_best[:,0], y=Y_umap_best[:,1], \n",
    "                     color=filtered_meta_df['Koppen-Geiger-Name-Modified'].astype(str), \n",
    "                     hover_name=filtered_embed_keys.astype(str), \n",
    "                     hover_data=[filtered_meta_df['Koppen-Geiger-Name-Modified'].astype(str)],\n",
    "                     color_discrete_sequence=px.colors.qualitative.Plotly,\n",
    "                     title=f\"UMAP Best (n_neighbors={best_umap_2d['n_neighbors']}, min_dist={best_umap_2d['min_dist']}, trust={best_umap_2d['trustworthiness']:.3f})\")\n",
    "\n",
    "html_path_umap = os.path.join(OUT_DIR, 'umap_best.html')\n",
    "pio.write_html(fig_umap, file=html_path_umap, auto_open=False)\n",
    "fig_umap.show()\n",
    "print(f'Saved interactive UMAP plot to {html_path_umap}')\n",
    "\n",
    "print(f\"\\n✅ UMAP analysis complete! Check {OUT_DIR} for saved results.\")\n",
    "print(f\"📋 Summary: UMAP often preserves local neighborhoods better than t-SNE\")\n",
    "print(f\"    Higher trustworthiness usually indicates better structure preservation\")"
   ]
  },
  {
   "cell_type": "code",
   "execution_count": null,
   "id": "28f29d14",
   "metadata": {},
   "outputs": [
    {
     "name": "stderr",
     "output_type": "stream",
     "text": [
      "C:\\Users\\andro\\AppData\\Local\\Temp\\ipykernel_46224\\1102342378.py:42: MatplotlibDeprecationWarning:\n",
      "\n",
      "The get_cmap function was deprecated in Matplotlib 3.7 and will be removed in 3.11. Use ``matplotlib.colormaps[name]`` or ``matplotlib.colormaps.get_cmap()`` or ``pyplot.get_cmap()`` instead.\n",
      "\n"
     ]
    },
    {
     "data": {
      "image/png": "[encoded data removed]",
      "text/plain": [
       "<Figure size 700x600 with 1 Axes>"
      ]
     },
     "metadata": {},
     "output_type": "display_data"
    },
    {
     "name": "stdout",
     "output_type": "stream",
     "text": [
      "Saved standalone UMAP figures to: ./Results/visualize_tsne\\umap_standalone.png/.pdf/.html\n"
     ]
    }
   ],
   "source": [
    "# --- Standalone UMAP-only figure (separate from comparison) ---\n",
    "# Reuse best UMAP 2D embedding if already computed; otherwise, load from summary or recompute minimal\n",
    "import os\n",
    "import numpy as np\n",
    "import plotly.express as px\n",
    "import matplotlib.pyplot as plt\n",
    "\n",
    "standalone_out_prefix = os.path.join(OUT_DIR, 'umap_standalone')\n",
    "\n",
    "# Ensure we have best_umap_2d (from earlier cell) or derive it\n",
    "if 'best_umap_2d' not in locals():\n",
    "    summary_path = os.path.join(OUT_DIR, 'umap_summary.csv')\n",
    "    if os.path.exists(summary_path):\n",
    "        import pandas as _pd\n",
    "        _umap_summary_df = _pd.read_csv(summary_path)\n",
    "        _umap_summary_df_2d = _umap_summary_df[_umap_summary_df['n_components'] == 2]\n",
    "        if len(_umap_summary_df_2d) > 0:\n",
    "            _best_row = _umap_summary_df_2d.sort_values('trustworthiness', ascending=False).iloc[0]\n",
    "            cand_file = os.path.join(OUT_DIR, f\"umap_n{_best_row['n_neighbors']}_d{_best_row['min_dist']}_2d.npz\")\n",
    "            if os.path.exists(cand_file):\n",
    "                Y_umap_best = np.load(cand_file)['Y']\n",
    "            else:\n",
    "                print('Could not locate embedding file for best row; aborting standalone plot.')\n",
    "        else:\n",
    "            print('No 2D UMAP rows found in summary; aborting standalone plot.')\n",
    "    else:\n",
    "        print('No umap_summary.csv found; run UMAP cell first.')\n",
    "else:\n",
    "    Y_umap_best = best_umap_2d['embedding']\n",
    "\n",
    "# Determine label column priority (prefer Koppen-Geiger modified, then ISO16_value)\n",
    "label_col = None\n",
    "if 'Koppen-Geiger-Name-Modified' in filtered_meta_df.columns:\n",
    "    label_col = 'Koppen-Geiger-Name-Modified'\n",
    "elif 'ISO16_value' in filtered_meta_df.columns:\n",
    "    label_col = 'ISO16_value'\n",
    "\n",
    "if label_col is not None and 'Y_umap_best' in locals():\n",
    "    labels = filtered_meta_df[label_col].astype(str).fillna('nan')\n",
    "    unique_classes = list(dict.fromkeys(labels.tolist()))\n",
    "    n_classes = max(1, len(unique_classes))\n",
    "    cmap = plt.cm.get_cmap('tab20', min(n_classes, 20))\n",
    "    class_to_color = {cls: cmap(i % cmap.N) for i, cls in enumerate(unique_classes)}\n",
    "\n",
    "    fig, ax = plt.subplots(figsize=(7,6))\n",
    "    for i, (x, y) in enumerate(Y_umap_best):\n",
    "        cls = labels.iloc[i]\n",
    "        ax.scatter(x, y, color=class_to_color.get(cls, (0.5,0.5,0.5)), s=22, edgecolors='none', alpha=0.85)\n",
    "\n",
    "    # Legend inside bottom-left\n",
    "    handles = [plt.Line2D([0],[0], marker='o', color='w', markerfacecolor=class_to_color[c], markersize=6, linestyle='') for c in unique_classes]\n",
    "    if handles:\n",
    "        ax.legend(handles, unique_classes,\n",
    "                  loc='lower left',\n",
    "                  title= 'Koppen Geiger Class',\n",
    "                  bbox_to_anchor=(0.02, 0.02),\n",
    "                  frameon=True,\n",
    "                  framealpha=0.9,\n",
    "                  fontsize=8,\n",
    "                  borderpad=0.4,\n",
    "                  labelspacing=0.3,\n",
    "                  handletextpad=0.4)\n",
    "    ax.set_title(\n",
    "        f'UMAP 2D'\n",
    "        if 'best_umap_2d' in locals() else 'UMAP 2D'\n",
    "    )\n",
    "    ax.set_xlabel('UMAP 1')\n",
    "    ax.set_ylabel('UMAP 2')\n",
    "    ax.grid(True, alpha=0.25)\n",
    "    plt.tight_layout()\n",
    "    plt.savefig(standalone_out_prefix + '.png', dpi=300, bbox_inches='tight')\n",
    "    plt.savefig(standalone_out_prefix + '.pdf', dpi=300, bbox_inches='tight')\n",
    "    plt.show()\n",
    "\n",
    "    # Interactive version with legend positioned bottom-left using layout margins\n",
    "    fig_int = px.scatter(x=Y_umap_best[:,0], y=Y_umap_best[:,1],\n",
    "                         color=labels,\n",
    "                         hover_name=filtered_meta_df['embed_key'].astype(str),\n",
    "                         title=f'Standalone UMAP 2D ({label_col})')\n",
    "    fig_int.update_layout(legend=dict(yanchor='bottom', y=0.01, xanchor='left', x=0.01, bgcolor='rgba(255,255,255,0.85)', bordercolor='rgba(0,0,0,0.2)', borderwidth=1, font=dict(size=10)))\n",
    "    fig_int.write_html(standalone_out_prefix + '.html')\n",
    "    print('Saved standalone UMAP figures to:', standalone_out_prefix + '.png/.pdf/.html')\n",
    "else:\n",
    "    print('Standalone UMAP figure skipped: missing embedding or label column.')"
   ]
  }
 ],
 "metadata": {
  "kernelspec": {
   "display_name": "Masters",
   "language": "python",
   "name": "python3"
  },
  "language_info": {
   "codemirror_mode": {
    "name": "ipython",
    "version": 3
   },
   "file_extension": ".py",
   "mimetype": "text/x-python",
   "name": "python",
   "nbconvert_exporter": "python",
   "pygments_lexer": "ipython3",
   "version": "3.10.15"
  }
 },
 "nbformat": 4,
 "nbformat_minor": 5
}
